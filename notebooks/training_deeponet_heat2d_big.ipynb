{
 "cells": [
  {
   "cell_type": "code",
   "execution_count": 66,
   "metadata": {},
   "outputs": [
    {
     "data": {
      "text/plain": [
       "[]"
      ]
     },
     "execution_count": 66,
     "metadata": {},
     "output_type": "execute_result"
    }
   ],
   "source": [
    "from sciml.model.deeponet import DeepONet\n",
    "import tensorflow as tf\n",
    "import numpy as np\n",
    "import matplotlib.pyplot as plt\n",
    "tf.config.list_physical_devices('GPU')\n",
    "\n"
   ]
  },
  {
   "cell_type": "code",
   "execution_count": 67,
   "metadata": {},
   "outputs": [],
   "source": [
    "d_p = 64\n",
    "d_V = 64\n",
    "epochs = 100\n"
   ]
  },
  {
   "cell_type": "code",
   "execution_count": 68,
   "metadata": {},
   "outputs": [],
   "source": [
    "internal_model = tf.keras.Sequential([\n",
    "    tf.keras.layers.Input(shape=(d_p,)),\n",
    "    tf.keras.layers.Dense(32, activation='relu'),\n",
    "    tf.keras.layers.Dense(32, activation='relu'),\n",
    "    tf.keras.layers.Dense(32, activation='relu'),\n",
    "    tf.keras.layers.Dense(32, activation='relu'),\n",
    "    tf.keras.layers.Dense(d_V, activation='relu'),\n",
    "])\n",
    "\n",
    "\n",
    "external_model = tf.keras.Sequential([\n",
    "    tf.keras.layers.Input(shape=(3,)),\n",
    "    tf.keras.layers.Dense(32, activation='relu'),\n",
    "    tf.keras.layers.Dense(32, activation='relu'),\n",
    "    tf.keras.layers.Dense(32, activation='relu'),\n",
    "    tf.keras.layers.Dense(32, activation='relu'),\n",
    "    tf.keras.layers.Dense(d_p, activation='relu'),\n",
    "])"
   ]
  },
  {
   "cell_type": "code",
   "execution_count": 69,
   "metadata": {},
   "outputs": [],
   "source": [
    "folder_path = \"data/test_data/big_dataset_deeponet/heat2d/\""
   ]
  },
  {
   "cell_type": "code",
   "execution_count": 70,
   "metadata": {},
   "outputs": [
    {
     "name": "stderr",
     "output_type": "stream",
     "text": [
      "INFO:sciml.model.deeponet.deeponet:Model initialized with 100 epochs, 32 batch size, 0.001 learning rate\n"
     ]
    }
   ],
   "source": [
    "model = DeepONet(regular_params={\"internal_model\": internal_model, \"external_model\": external_model}, hyper_params={\"d_p\": d_p, \"d_V\": d_V,\"device\": \"GPU\",\"n_epochs\":epochs})"
   ]
  },
  {
   "cell_type": "code",
   "execution_count": 71,
   "metadata": {},
   "outputs": [
    {
     "name": "stderr",
     "output_type": "stream",
     "text": [
      "Loading mu data: 100%|██████████| 32/32 [00:00<00:00, 7044.07it/s]\n",
      "Loading x data: 100%|██████████| 32/32 [00:00<00:00, 3663.65it/s]\n",
      "Loading y data: 100%|██████████| 32/32 [00:00<00:00, 5235.93it/s]\n"
     ]
    }
   ],
   "source": [
    "mus, xs, sol = model.get_data(folder_path)"
   ]
  },
  {
   "cell_type": "code",
   "execution_count": 72,
   "metadata": {},
   "outputs": [
    {
     "name": "stdout",
     "output_type": "stream",
     "text": [
      "(32, 64)\n",
      "(32, 2560, 3)\n",
      "(32, 2560)\n"
     ]
    }
   ],
   "source": [
    "print(mus.shape)\n",
    "print(xs.shape)\n",
    "print(sol.shape)"
   ]
  },
  {
   "cell_type": "code",
   "execution_count": 73,
   "metadata": {},
   "outputs": [
    {
     "name": "stderr",
     "output_type": "stream",
     "text": [
      "Loading mu data: 100%|██████████| 32/32 [00:00<00:00, 6650.37it/s]\n",
      "Loading x data: 100%|██████████| 32/32 [00:00<00:00, 5497.57it/s]\n",
      "Loading y data: 100%|██████████| 32/32 [00:00<00:00, 7846.70it/s]\n",
      "Training progress:   0%|          | 0/100 [00:00<?, ?it/s]2025-03-16 20:12:45.708710: I tensorflow/core/common_runtime/executor.cc:1197] [/device:CPU:0] (DEBUG INFO) Executor start aborting (this does not indicate an error and you can ignore this message): INVALID_ARGUMENT: You must feed a value for placeholder tensor 'Placeholder/_2' with dtype float and shape [32,2560]\n",
      "\t [[{{node Placeholder/_2}}]]\n",
      "INFO:sciml.model.deeponet.deeponet:Epoch 0 completed\n",
      "Training progress:   1%|          | 1/100 [00:00<00:11,  8.43it/s]INFO:sciml.model.deeponet.deeponet:Epoch 1 completed\n",
      "INFO:sciml.model.deeponet.deeponet:Epoch 2 completed\n",
      "Training progress:   3%|▎         | 3/100 [00:00<00:09, 10.37it/s]INFO:sciml.model.deeponet.deeponet:Epoch 3 completed\n",
      "INFO:sciml.model.deeponet.deeponet:Epoch 4 completed\n",
      "Training progress:   5%|▌         | 5/100 [00:00<00:08, 10.94it/s]INFO:sciml.model.deeponet.deeponet:Epoch 5 completed\n",
      "INFO:sciml.model.deeponet.deeponet:Epoch 6 completed\n",
      "Training progress:   7%|▋         | 7/100 [00:00<00:08, 11.37it/s]INFO:sciml.model.deeponet.deeponet:Epoch 7 completed\n",
      "INFO:sciml.model.deeponet.deeponet:Epoch 8 completed\n",
      "Training progress:   9%|▉         | 9/100 [00:00<00:07, 11.52it/s]INFO:sciml.model.deeponet.deeponet:Epoch 9 completed\n",
      "INFO:sciml.model.deeponet.deeponet:Epoch 10 completed\n",
      "Training progress:  11%|█         | 11/100 [00:00<00:07, 11.68it/s]INFO:sciml.model.deeponet.deeponet:Epoch 11 completed\n",
      "INFO:sciml.model.deeponet.deeponet:Epoch 12 completed\n",
      "Training progress:  13%|█▎        | 13/100 [00:01<00:07, 11.71it/s]INFO:sciml.model.deeponet.deeponet:Epoch 13 completed\n",
      "INFO:sciml.model.deeponet.deeponet:Epoch 14 completed\n",
      "Training progress:  15%|█▌        | 15/100 [00:01<00:07, 11.76it/s]INFO:sciml.model.deeponet.deeponet:Epoch 15 completed\n",
      "INFO:sciml.model.deeponet.deeponet:Epoch 16 completed\n",
      "Training progress:  17%|█▋        | 17/100 [00:01<00:07, 11.84it/s]INFO:sciml.model.deeponet.deeponet:Epoch 17 completed\n",
      "INFO:sciml.model.deeponet.deeponet:Epoch 18 completed\n",
      "Training progress:  19%|█▉        | 19/100 [00:01<00:06, 11.86it/s]INFO:sciml.model.deeponet.deeponet:Epoch 19 completed\n",
      "INFO:sciml.model.deeponet.deeponet:Epoch 20 completed\n",
      "Training progress:  21%|██        | 21/100 [00:01<00:06, 11.86it/s]INFO:sciml.model.deeponet.deeponet:Epoch 21 completed\n",
      "INFO:sciml.model.deeponet.deeponet:Epoch 22 completed\n",
      "Training progress:  23%|██▎       | 23/100 [00:01<00:06, 11.78it/s]INFO:sciml.model.deeponet.deeponet:Epoch 23 completed\n",
      "INFO:sciml.model.deeponet.deeponet:Epoch 24 completed\n",
      "Training progress:  25%|██▌       | 25/100 [00:02<00:06, 11.53it/s]INFO:sciml.model.deeponet.deeponet:Epoch 25 completed\n",
      "INFO:sciml.model.deeponet.deeponet:Epoch 26 completed\n",
      "Training progress:  27%|██▋       | 27/100 [00:02<00:06, 11.03it/s]INFO:sciml.model.deeponet.deeponet:Epoch 27 completed\n",
      "INFO:sciml.model.deeponet.deeponet:Epoch 28 completed\n",
      "Training progress:  29%|██▉       | 29/100 [00:02<00:06, 11.10it/s]INFO:sciml.model.deeponet.deeponet:Epoch 29 completed\n",
      "INFO:sciml.model.deeponet.deeponet:Epoch 30 completed\n",
      "Training progress:  31%|███       | 31/100 [00:02<00:06, 11.25it/s]INFO:sciml.model.deeponet.deeponet:Epoch 31 completed\n",
      "INFO:sciml.model.deeponet.deeponet:Epoch 32 completed\n",
      "Training progress:  33%|███▎      | 33/100 [00:02<00:05, 11.46it/s]INFO:sciml.model.deeponet.deeponet:Epoch 33 completed\n",
      "INFO:sciml.model.deeponet.deeponet:Epoch 34 completed\n",
      "Training progress:  35%|███▌      | 35/100 [00:03<00:05, 11.44it/s]INFO:sciml.model.deeponet.deeponet:Epoch 35 completed\n",
      "INFO:sciml.model.deeponet.deeponet:Epoch 36 completed\n",
      "Training progress:  37%|███▋      | 37/100 [00:03<00:05, 11.37it/s]INFO:sciml.model.deeponet.deeponet:Epoch 37 completed\n",
      "INFO:sciml.model.deeponet.deeponet:Epoch 38 completed\n",
      "Training progress:  39%|███▉      | 39/100 [00:03<00:05, 11.50it/s]INFO:sciml.model.deeponet.deeponet:Epoch 39 completed\n",
      "INFO:sciml.model.deeponet.deeponet:Epoch 40 completed\n",
      "Training progress:  41%|████      | 41/100 [00:03<00:05, 11.62it/s]INFO:sciml.model.deeponet.deeponet:Epoch 41 completed\n",
      "INFO:sciml.model.deeponet.deeponet:Epoch 42 completed\n",
      "Training progress:  43%|████▎     | 43/100 [00:03<00:04, 11.72it/s]INFO:sciml.model.deeponet.deeponet:Epoch 43 completed\n",
      "INFO:sciml.model.deeponet.deeponet:Epoch 44 completed\n",
      "Training progress:  45%|████▌     | 45/100 [00:03<00:04, 11.62it/s]INFO:sciml.model.deeponet.deeponet:Epoch 45 completed\n",
      "INFO:sciml.model.deeponet.deeponet:Epoch 46 completed\n",
      "Training progress:  47%|████▋     | 47/100 [00:04<00:04, 11.59it/s]INFO:sciml.model.deeponet.deeponet:Epoch 47 completed\n",
      "INFO:sciml.model.deeponet.deeponet:Epoch 48 completed\n",
      "Training progress:  49%|████▉     | 49/100 [00:04<00:04, 11.62it/s]INFO:sciml.model.deeponet.deeponet:Epoch 49 completed\n",
      "INFO:sciml.model.deeponet.deeponet:Epoch 50 completed\n",
      "Training progress:  51%|█████     | 51/100 [00:04<00:04, 11.68it/s]INFO:sciml.model.deeponet.deeponet:Epoch 51 completed\n",
      "INFO:sciml.model.deeponet.deeponet:Epoch 52 completed\n",
      "Training progress:  53%|█████▎    | 53/100 [00:04<00:04, 11.74it/s]INFO:sciml.model.deeponet.deeponet:Epoch 53 completed\n",
      "INFO:sciml.model.deeponet.deeponet:Epoch 54 completed\n",
      "Training progress:  55%|█████▌    | 55/100 [00:04<00:03, 11.77it/s]INFO:sciml.model.deeponet.deeponet:Epoch 55 completed\n",
      "INFO:sciml.model.deeponet.deeponet:Epoch 56 completed\n",
      "Training progress:  57%|█████▋    | 57/100 [00:04<00:03, 11.86it/s]INFO:sciml.model.deeponet.deeponet:Epoch 57 completed\n",
      "INFO:sciml.model.deeponet.deeponet:Epoch 58 completed\n",
      "Training progress:  59%|█████▉    | 59/100 [00:05<00:03, 11.93it/s]INFO:sciml.model.deeponet.deeponet:Epoch 59 completed\n",
      "INFO:sciml.model.deeponet.deeponet:Epoch 60 completed\n",
      "Training progress:  61%|██████    | 61/100 [00:05<00:03, 11.86it/s]INFO:sciml.model.deeponet.deeponet:Epoch 61 completed\n",
      "INFO:sciml.model.deeponet.deeponet:Epoch 62 completed\n",
      "Training progress:  63%|██████▎   | 63/100 [00:05<00:03, 11.85it/s]INFO:sciml.model.deeponet.deeponet:Epoch 63 completed\n",
      "INFO:sciml.model.deeponet.deeponet:Epoch 64 completed\n",
      "Training progress:  65%|██████▌   | 65/100 [00:05<00:02, 11.93it/s]INFO:sciml.model.deeponet.deeponet:Epoch 65 completed\n",
      "INFO:sciml.model.deeponet.deeponet:Epoch 66 completed\n",
      "Training progress:  67%|██████▋   | 67/100 [00:05<00:02, 11.88it/s]INFO:sciml.model.deeponet.deeponet:Epoch 67 completed\n",
      "INFO:sciml.model.deeponet.deeponet:Epoch 68 completed\n",
      "Training progress:  69%|██████▉   | 69/100 [00:05<00:02, 11.61it/s]INFO:sciml.model.deeponet.deeponet:Epoch 69 completed\n",
      "INFO:sciml.model.deeponet.deeponet:Epoch 70 completed\n",
      "Training progress:  71%|███████   | 71/100 [00:06<00:02, 11.52it/s]INFO:sciml.model.deeponet.deeponet:Epoch 71 completed\n",
      "INFO:sciml.model.deeponet.deeponet:Epoch 72 completed\n",
      "Training progress:  73%|███████▎  | 73/100 [00:06<00:02, 11.09it/s]INFO:sciml.model.deeponet.deeponet:Epoch 73 completed\n",
      "INFO:sciml.model.deeponet.deeponet:Epoch 74 completed\n",
      "Training progress:  75%|███████▌  | 75/100 [00:06<00:02, 10.86it/s]INFO:sciml.model.deeponet.deeponet:Epoch 75 completed\n",
      "INFO:sciml.model.deeponet.deeponet:Epoch 76 completed\n",
      "Training progress:  77%|███████▋  | 77/100 [00:06<00:02, 11.13it/s]INFO:sciml.model.deeponet.deeponet:Epoch 77 completed\n",
      "INFO:sciml.model.deeponet.deeponet:Epoch 78 completed\n",
      "Training progress:  79%|███████▉  | 79/100 [00:06<00:01, 11.35it/s]INFO:sciml.model.deeponet.deeponet:Epoch 79 completed\n",
      "INFO:sciml.model.deeponet.deeponet:Epoch 80 completed\n",
      "Training progress:  81%|████████  | 81/100 [00:07<00:01, 11.46it/s]INFO:sciml.model.deeponet.deeponet:Epoch 81 completed\n",
      "INFO:sciml.model.deeponet.deeponet:Epoch 82 completed\n",
      "Training progress:  83%|████████▎ | 83/100 [00:07<00:01, 11.56it/s]INFO:sciml.model.deeponet.deeponet:Epoch 83 completed\n",
      "INFO:sciml.model.deeponet.deeponet:Epoch 84 completed\n",
      "Training progress:  85%|████████▌ | 85/100 [00:07<00:01, 11.66it/s]INFO:sciml.model.deeponet.deeponet:Epoch 85 completed\n",
      "INFO:sciml.model.deeponet.deeponet:Epoch 86 completed\n",
      "Training progress:  87%|████████▋ | 87/100 [00:07<00:01, 11.71it/s]INFO:sciml.model.deeponet.deeponet:Epoch 87 completed\n",
      "INFO:sciml.model.deeponet.deeponet:Epoch 88 completed\n",
      "Training progress:  89%|████████▉ | 89/100 [00:07<00:00, 11.76it/s]INFO:sciml.model.deeponet.deeponet:Epoch 89 completed\n",
      "INFO:sciml.model.deeponet.deeponet:Epoch 90 completed\n",
      "Training progress:  91%|█████████ | 91/100 [00:07<00:00, 11.76it/s]INFO:sciml.model.deeponet.deeponet:Epoch 91 completed\n",
      "INFO:sciml.model.deeponet.deeponet:Epoch 92 completed\n",
      "Training progress:  93%|█████████▎| 93/100 [00:08<00:00, 11.73it/s]INFO:sciml.model.deeponet.deeponet:Epoch 93 completed\n",
      "INFO:sciml.model.deeponet.deeponet:Epoch 94 completed\n",
      "Training progress:  95%|█████████▌| 95/100 [00:08<00:00, 11.81it/s]INFO:sciml.model.deeponet.deeponet:Epoch 95 completed\n",
      "INFO:sciml.model.deeponet.deeponet:Epoch 96 completed\n",
      "Training progress:  97%|█████████▋| 97/100 [00:08<00:00, 11.83it/s]INFO:sciml.model.deeponet.deeponet:Epoch 97 completed\n",
      "INFO:sciml.model.deeponet.deeponet:Epoch 98 completed\n",
      "Training progress:  99%|█████████▉| 99/100 [00:08<00:00, 11.72it/s]INFO:sciml.model.deeponet.deeponet:Epoch 99 completed\n",
      "Training progress: 100%|██████████| 100/100 [00:08<00:00, 11.57it/s]\n"
     ]
    }
   ],
   "source": [
    "train_history = model.fit()"
   ]
  },
  {
   "cell_type": "code",
   "execution_count": 74,
   "metadata": {},
   "outputs": [
    {
     "data": {
      "image/png": "[encoded data removed]",
      "text/plain": [
       "<Figure size 640x480 with 1 Axes>"
      ]
     },
     "metadata": {},
     "output_type": "display_data"
    }
   ],
   "source": [
    "plt.plot(train_history[::(32//32)])\n",
    "#log \n",
    "plt.yscale('log')\n",
    "plt.grid()\n",
    "plt.show()"
   ]
  },
  {
   "cell_type": "code",
   "execution_count": null,
   "metadata": {},
   "outputs": [],
   "source": []
  }
 ],
 "metadata": {
  "kernelspec": {
   "display_name": ".venv",
   "language": "python",
   "name": "python3"
  },
  "language_info": {
   "codemirror_mode": {
    "name": "ipython",
    "version": 3
   },
   "file_extension": ".py",
   "mimetype": "text/x-python",
   "name": "python",
   "nbconvert_exporter": "python",
   "pygments_lexer": "ipython3",
   "version": "3.11.11"
  }
 },
 "nbformat": 4,
 "nbformat_minor": 2
}
