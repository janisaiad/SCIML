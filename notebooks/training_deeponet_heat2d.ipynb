{
 "cells": [
  {
   "cell_type": "code",
   "execution_count": 1,
   "metadata": {},
   "outputs": [
    {
     "name": "stderr",
     "output_type": "stream",
     "text": [
      "2025-03-05 03:05:04.256092: I tensorflow/core/util/port.cc:153] oneDNN custom operations are on. You may see slightly different numerical results due to floating-point round-off errors from different computation orders. To turn them off, set the environment variable `TF_ENABLE_ONEDNN_OPTS=0`.\n",
      "2025-03-05 03:05:04.286740: E external/local_xla/xla/stream_executor/cuda/cuda_fft.cc:477] Unable to register cuFFT factory: Attempting to register factory for plugin cuFFT when one has already been registered\n",
      "WARNING: All log messages before absl::InitializeLog() is called are written to STDERR\n",
      "E0000 00:00:1741140304.335343  719611 cuda_dnn.cc:8310] Unable to register cuDNN factory: Attempting to register factory for plugin cuDNN when one has already been registered\n",
      "E0000 00:00:1741140304.350048  719611 cuda_blas.cc:1418] Unable to register cuBLAS factory: Attempting to register factory for plugin cuBLAS when one has already been registered\n",
      "2025-03-05 03:05:04.401000: I tensorflow/core/platform/cpu_feature_guard.cc:210] This TensorFlow binary is optimized to use available CPU instructions in performance-critical operations.\n",
      "To enable the following instructions: AVX2 AVX512F AVX512_VNNI AVX512_BF16 FMA, in other operations, rebuild TensorFlow with the appropriate compiler flags.\n"
     ]
    },
    {
     "data": {
      "text/plain": [
       "[PhysicalDevice(name='/physical_device:GPU:0', device_type='GPU')]"
      ]
     },
     "execution_count": 1,
     "metadata": {},
     "output_type": "execute_result"
    }
   ],
   "source": [
    "from sciml.model.deeponet import DeepONet\n",
    "import tensorflow as tf\n",
    "import numpy as np\n",
    "import matplotlib.pyplot as plt\n",
    "tf.config.list_physical_devices('GPU')\n",
    "\n"
   ]
  },
  {
   "cell_type": "code",
   "execution_count": 16,
   "metadata": {},
   "outputs": [],
   "source": [
    "d_p = 40\n",
    "d_V = 40\n",
    "epochs = 300    \n"
   ]
  },
  {
   "cell_type": "code",
   "execution_count": 17,
   "metadata": {},
   "outputs": [],
   "source": [
    "internal_model = tf.keras.Sequential([\n",
    "    tf.keras.layers.InputLayer(shape=(80,)),\n",
    "    tf.keras.layers.Dense(40, activation='relu'),\n",
    "    tf.keras.layers.Dense(128, activation='relu'),\n",
    "    tf.keras.layers.Dense(40, activation='relu'),\n",
    "])\n",
    "\n",
    "\n",
    "external_model = tf.keras.Sequential([\n",
    "    tf.keras.layers.InputLayer(shape=(3,)),\n",
    "    tf.keras.layers.Dense(40, activation='relu'),\n",
    "    tf.keras.layers.Dense(128, activation='relu'),\n",
    "    tf.keras.layers.Dense(40, activation='relu'),\n",
    "])\n",
    "\n"
   ]
  },
  {
   "cell_type": "code",
   "execution_count": 18,
   "metadata": {},
   "outputs": [],
   "source": [
    "folder_path = \"data/test_data/example_data/heat2d/\""
   ]
  },
  {
   "cell_type": "code",
   "execution_count": 24,
   "metadata": {},
   "outputs": [
    {
     "name": "stderr",
     "output_type": "stream",
     "text": [
      "INFO:sciml.model.deeponet.deeponet:Model initialized with 300 epochs, 32 batch size, 0.001 learning rate\n"
     ]
    }
   ],
   "source": [
    "model = DeepONet(regular_params={\"internal_model\": internal_model, \"external_model\": external_model}, hyper_params={\"d_p\": d_p, \"d_V\": d_V,\"device\": \"GPU\",\"n_epochs\":epochs})"
   ]
  },
  {
   "cell_type": "code",
   "execution_count": 25,
   "metadata": {},
   "outputs": [
    {
     "name": "stderr",
     "output_type": "stream",
     "text": [
      "Loading mu data: 100%|██████████| 40/40 [00:00<00:00, 9271.74it/s]\n",
      "Loading x data: 100%|██████████| 40/40 [00:00<00:00, 3569.01it/s]\n",
      "Loading y data: 100%|██████████| 40/40 [00:00<00:00, 4463.45it/s]\n"
     ]
    }
   ],
   "source": [
    "mus, xs, sol = model.get_data(folder_path)"
   ]
  },
  {
   "cell_type": "code",
   "execution_count": 21,
   "metadata": {},
   "outputs": [
    {
     "name": "stdout",
     "output_type": "stream",
     "text": [
      "(40, 80)\n",
      "(40, 8000, 3)\n",
      "(40, 8000)\n"
     ]
    }
   ],
   "source": [
    "print(mus.shape)\n",
    "print(xs.shape)\n",
    "print(sol.shape)"
   ]
  },
  {
   "cell_type": "code",
   "execution_count": 22,
   "metadata": {},
   "outputs": [
    {
     "name": "stderr",
     "output_type": "stream",
     "text": [
      "Loading mu data: 100%|██████████| 40/40 [00:00<00:00, 22423.44it/s]\n",
      "Loading x data: 100%|██████████| 40/40 [00:00<00:00, 6069.68it/s]\n",
      "Loading y data: 100%|██████████| 40/40 [00:00<00:00, 6111.92it/s]\n",
      "Training progress:   0%|          | 0/100 [00:00<?, ?it/s]INFO:sciml.model.deeponet.deeponet:Epoch 0 completed\n",
      "Training progress:   1%|          | 1/100 [00:00<01:27,  1.13it/s]INFO:sciml.model.deeponet.deeponet:Epoch 1 completed\n",
      "Training progress:   2%|▏         | 2/100 [00:01<00:52,  1.85it/s]INFO:sciml.model.deeponet.deeponet:Epoch 2 completed\n",
      "Training progress:   3%|▎         | 3/100 [00:01<00:40,  2.37it/s]INFO:sciml.model.deeponet.deeponet:Epoch 3 completed\n",
      "Training progress:   4%|▍         | 4/100 [00:01<00:35,  2.74it/s]INFO:sciml.model.deeponet.deeponet:Epoch 4 completed\n",
      "Training progress:   5%|▌         | 5/100 [00:02<00:31,  2.99it/s]INFO:sciml.model.deeponet.deeponet:Epoch 5 completed\n",
      "Training progress:   6%|▌         | 6/100 [00:02<00:30,  3.09it/s]INFO:sciml.model.deeponet.deeponet:Epoch 6 completed\n",
      "Training progress:   7%|▋         | 7/100 [00:02<00:29,  3.19it/s]INFO:sciml.model.deeponet.deeponet:Epoch 7 completed\n",
      "Training progress:   8%|▊         | 8/100 [00:02<00:27,  3.29it/s]INFO:sciml.model.deeponet.deeponet:Epoch 8 completed\n",
      "Training progress:   9%|▉         | 9/100 [00:03<00:26,  3.38it/s]INFO:sciml.model.deeponet.deeponet:Epoch 9 completed\n",
      "Training progress:  10%|█         | 10/100 [00:03<00:26,  3.36it/s]INFO:sciml.model.deeponet.deeponet:Epoch 10 completed\n",
      "Training progress:  11%|█         | 11/100 [00:03<00:27,  3.27it/s]INFO:sciml.model.deeponet.deeponet:Epoch 11 completed\n",
      "Training progress:  12%|█▏        | 12/100 [00:04<00:27,  3.24it/s]INFO:sciml.model.deeponet.deeponet:Epoch 12 completed\n",
      "Training progress:  13%|█▎        | 13/100 [00:04<00:29,  2.98it/s]INFO:sciml.model.deeponet.deeponet:Epoch 13 completed\n",
      "Training progress:  14%|█▍        | 14/100 [00:04<00:28,  3.02it/s]INFO:sciml.model.deeponet.deeponet:Epoch 14 completed\n",
      "Training progress:  15%|█▌        | 15/100 [00:05<00:27,  3.06it/s]INFO:sciml.model.deeponet.deeponet:Epoch 15 completed\n",
      "Training progress:  16%|█▌        | 16/100 [00:05<00:27,  3.09it/s]INFO:sciml.model.deeponet.deeponet:Epoch 16 completed\n",
      "Training progress:  17%|█▋        | 17/100 [00:05<00:26,  3.10it/s]INFO:sciml.model.deeponet.deeponet:Epoch 17 completed\n",
      "Training progress:  18%|█▊        | 18/100 [00:06<00:26,  3.11it/s]INFO:sciml.model.deeponet.deeponet:Epoch 18 completed\n",
      "Training progress:  19%|█▉        | 19/100 [00:06<00:25,  3.12it/s]INFO:sciml.model.deeponet.deeponet:Epoch 19 completed\n",
      "Training progress:  20%|██        | 20/100 [00:06<00:25,  3.09it/s]INFO:sciml.model.deeponet.deeponet:Epoch 20 completed\n",
      "Training progress:  21%|██        | 21/100 [00:07<00:25,  3.07it/s]INFO:sciml.model.deeponet.deeponet:Epoch 21 completed\n",
      "Training progress:  22%|██▏       | 22/100 [00:07<00:25,  3.07it/s]INFO:sciml.model.deeponet.deeponet:Epoch 22 completed\n",
      "Training progress:  23%|██▎       | 23/100 [00:07<00:25,  3.05it/s]INFO:sciml.model.deeponet.deeponet:Epoch 23 completed\n",
      "Training progress:  24%|██▍       | 24/100 [00:08<00:26,  2.92it/s]INFO:sciml.model.deeponet.deeponet:Epoch 24 completed\n",
      "Training progress:  25%|██▌       | 25/100 [00:08<00:26,  2.81it/s]INFO:sciml.model.deeponet.deeponet:Epoch 25 completed\n",
      "Training progress:  26%|██▌       | 26/100 [00:08<00:25,  2.94it/s]INFO:sciml.model.deeponet.deeponet:Epoch 26 completed\n",
      "Training progress:  27%|██▋       | 27/100 [00:09<00:24,  3.01it/s]2025-03-05 03:10:40.671983: I tensorflow/core/framework/local_rendezvous.cc:405] Local rendezvous is aborting with status: OUT_OF_RANGE: End of sequence\n",
      "INFO:sciml.model.deeponet.deeponet:Epoch 27 completed\n",
      "Training progress:  28%|██▊       | 28/100 [00:09<00:23,  3.11it/s]INFO:sciml.model.deeponet.deeponet:Epoch 28 completed\n",
      "Training progress:  29%|██▉       | 29/100 [00:09<00:21,  3.26it/s]INFO:sciml.model.deeponet.deeponet:Epoch 29 completed\n",
      "Training progress:  30%|███       | 30/100 [00:09<00:20,  3.38it/s]INFO:sciml.model.deeponet.deeponet:Epoch 30 completed\n",
      "Training progress:  31%|███       | 31/100 [00:10<00:20,  3.43it/s]INFO:sciml.model.deeponet.deeponet:Epoch 31 completed\n",
      "Training progress:  32%|███▏      | 32/100 [00:10<00:20,  3.40it/s]INFO:sciml.model.deeponet.deeponet:Epoch 32 completed\n",
      "Training progress:  33%|███▎      | 33/100 [00:10<00:19,  3.45it/s]INFO:sciml.model.deeponet.deeponet:Epoch 33 completed\n",
      "Training progress:  34%|███▍      | 34/100 [00:11<00:18,  3.55it/s]INFO:sciml.model.deeponet.deeponet:Epoch 34 completed\n",
      "Training progress:  35%|███▌      | 35/100 [00:11<00:18,  3.59it/s]INFO:sciml.model.deeponet.deeponet:Epoch 35 completed\n",
      "Training progress:  36%|███▌      | 36/100 [00:11<00:18,  3.51it/s]INFO:sciml.model.deeponet.deeponet:Epoch 36 completed\n",
      "Training progress:  37%|███▋      | 37/100 [00:11<00:17,  3.54it/s]INFO:sciml.model.deeponet.deeponet:Epoch 37 completed\n",
      "Training progress:  38%|███▊      | 38/100 [00:12<00:17,  3.59it/s]INFO:sciml.model.deeponet.deeponet:Epoch 38 completed\n",
      "Training progress:  39%|███▉      | 39/100 [00:12<00:17,  3.51it/s]INFO:sciml.model.deeponet.deeponet:Epoch 39 completed\n",
      "Training progress:  40%|████      | 40/100 [00:12<00:17,  3.53it/s]INFO:sciml.model.deeponet.deeponet:Epoch 40 completed\n",
      "Training progress:  41%|████      | 41/100 [00:13<00:16,  3.48it/s]INFO:sciml.model.deeponet.deeponet:Epoch 41 completed\n",
      "Training progress:  42%|████▏     | 42/100 [00:13<00:17,  3.32it/s]INFO:sciml.model.deeponet.deeponet:Epoch 42 completed\n",
      "Training progress:  43%|████▎     | 43/100 [00:13<00:17,  3.22it/s]INFO:sciml.model.deeponet.deeponet:Epoch 43 completed\n",
      "Training progress:  44%|████▍     | 44/100 [00:14<00:17,  3.12it/s]INFO:sciml.model.deeponet.deeponet:Epoch 44 completed\n",
      "Training progress:  45%|████▌     | 45/100 [00:14<00:18,  3.03it/s]INFO:sciml.model.deeponet.deeponet:Epoch 45 completed\n",
      "Training progress:  46%|████▌     | 46/100 [00:14<00:18,  3.00it/s]INFO:sciml.model.deeponet.deeponet:Epoch 46 completed\n",
      "Training progress:  47%|████▋     | 47/100 [00:15<00:17,  2.95it/s]INFO:sciml.model.deeponet.deeponet:Epoch 47 completed\n",
      "Training progress:  48%|████▊     | 48/100 [00:15<00:17,  2.97it/s]INFO:sciml.model.deeponet.deeponet:Epoch 48 completed\n",
      "Training progress:  49%|████▉     | 49/100 [00:15<00:17,  2.96it/s]INFO:sciml.model.deeponet.deeponet:Epoch 49 completed\n",
      "Training progress:  50%|█████     | 50/100 [00:16<00:16,  2.96it/s]INFO:sciml.model.deeponet.deeponet:Epoch 50 completed\n",
      "Training progress:  51%|█████     | 51/100 [00:16<00:16,  2.97it/s]INFO:sciml.model.deeponet.deeponet:Epoch 51 completed\n",
      "Training progress:  52%|█████▏    | 52/100 [00:17<00:20,  2.35it/s]INFO:sciml.model.deeponet.deeponet:Epoch 52 completed\n",
      "Training progress:  53%|█████▎    | 53/100 [00:17<00:18,  2.49it/s]INFO:sciml.model.deeponet.deeponet:Epoch 53 completed\n",
      "Training progress:  54%|█████▍    | 54/100 [00:18<00:21,  2.12it/s]INFO:sciml.model.deeponet.deeponet:Epoch 54 completed\n",
      "Training progress:  55%|█████▌    | 55/100 [00:18<00:19,  2.33it/s]INFO:sciml.model.deeponet.deeponet:Epoch 55 completed\n",
      "Training progress:  56%|█████▌    | 56/100 [00:18<00:18,  2.43it/s]INFO:sciml.model.deeponet.deeponet:Epoch 56 completed\n",
      "Training progress:  57%|█████▋    | 57/100 [00:19<00:17,  2.51it/s]INFO:sciml.model.deeponet.deeponet:Epoch 57 completed\n",
      "Training progress:  58%|█████▊    | 58/100 [00:19<00:16,  2.49it/s]INFO:sciml.model.deeponet.deeponet:Epoch 58 completed\n",
      "Training progress:  59%|█████▉    | 59/100 [00:19<00:16,  2.56it/s]INFO:sciml.model.deeponet.deeponet:Epoch 59 completed\n",
      "Training progress:  60%|██████    | 60/100 [00:20<00:14,  2.68it/s]INFO:sciml.model.deeponet.deeponet:Epoch 60 completed\n",
      "Training progress:  61%|██████    | 61/100 [00:20<00:14,  2.78it/s]INFO:sciml.model.deeponet.deeponet:Epoch 61 completed\n",
      "Training progress:  62%|██████▏   | 62/100 [00:20<00:13,  2.77it/s]INFO:sciml.model.deeponet.deeponet:Epoch 62 completed\n",
      "Training progress:  63%|██████▎   | 63/100 [00:21<00:13,  2.78it/s]INFO:sciml.model.deeponet.deeponet:Epoch 63 completed\n",
      "Training progress:  64%|██████▍   | 64/100 [00:21<00:13,  2.76it/s]INFO:sciml.model.deeponet.deeponet:Epoch 64 completed\n",
      "Training progress:  65%|██████▌   | 65/100 [00:22<00:12,  2.79it/s]INFO:sciml.model.deeponet.deeponet:Epoch 65 completed\n",
      "Training progress:  66%|██████▌   | 66/100 [00:22<00:11,  2.90it/s]INFO:sciml.model.deeponet.deeponet:Epoch 66 completed\n",
      "Training progress:  67%|██████▋   | 67/100 [00:22<00:11,  2.99it/s]INFO:sciml.model.deeponet.deeponet:Epoch 67 completed\n",
      "Training progress:  68%|██████▊   | 68/100 [00:22<00:10,  3.04it/s]INFO:sciml.model.deeponet.deeponet:Epoch 68 completed\n",
      "INFO:sciml.model.deeponet.deeponet:Epoch 69 completed\n",
      "INFO:sciml.model.deeponet.deeponet:Epoch 70 completed\n",
      "INFO:sciml.model.deeponet.deeponet:Epoch 71 completed\n",
      "INFO:sciml.model.deeponet.deeponet:Epoch 72 completed\n",
      "INFO:sciml.model.deeponet.deeponet:Epoch 73 completed\n",
      "INFO:sciml.model.deeponet.deeponet:Epoch 74 completed\n",
      "INFO:sciml.model.deeponet.deeponet:Epoch 75 completed\n",
      "Training progress:  76%|███████▌  | 76/100 [00:23<00:02,  9.43it/s]INFO:sciml.model.deeponet.deeponet:Epoch 76 completed\n",
      "Training progress:  77%|███████▋  | 77/100 [00:23<00:03,  7.03it/s]INFO:sciml.model.deeponet.deeponet:Epoch 77 completed\n",
      "Training progress:  78%|███████▊  | 78/100 [00:24<00:03,  5.78it/s]INFO:sciml.model.deeponet.deeponet:Epoch 78 completed\n",
      "Training progress:  79%|███████▉  | 79/100 [00:24<00:04,  4.88it/s]INFO:sciml.model.deeponet.deeponet:Epoch 79 completed\n",
      "Training progress:  80%|████████  | 80/100 [00:24<00:04,  4.28it/s]INFO:sciml.model.deeponet.deeponet:Epoch 80 completed\n",
      "Training progress:  81%|████████  | 81/100 [00:25<00:04,  3.80it/s]INFO:sciml.model.deeponet.deeponet:Epoch 81 completed\n",
      "Training progress:  82%|████████▏ | 82/100 [00:25<00:05,  3.53it/s]INFO:sciml.model.deeponet.deeponet:Epoch 82 completed\n",
      "Training progress:  83%|████████▎ | 83/100 [00:25<00:05,  3.34it/s]INFO:sciml.model.deeponet.deeponet:Epoch 83 completed\n",
      "Training progress:  84%|████████▍ | 84/100 [00:26<00:05,  3.15it/s]INFO:sciml.model.deeponet.deeponet:Epoch 84 completed\n",
      "Training progress:  85%|████████▌ | 85/100 [00:26<00:05,  2.93it/s]INFO:sciml.model.deeponet.deeponet:Epoch 85 completed\n",
      "Training progress:  86%|████████▌ | 86/100 [00:26<00:05,  2.80it/s]INFO:sciml.model.deeponet.deeponet:Epoch 86 completed\n",
      "Training progress:  87%|████████▋ | 87/100 [00:27<00:04,  2.78it/s]INFO:sciml.model.deeponet.deeponet:Epoch 87 completed\n",
      "Training progress:  88%|████████▊ | 88/100 [00:27<00:04,  2.67it/s]INFO:sciml.model.deeponet.deeponet:Epoch 88 completed\n",
      "Training progress:  89%|████████▉ | 89/100 [00:28<00:03,  2.77it/s]INFO:sciml.model.deeponet.deeponet:Epoch 89 completed\n",
      "Training progress:  90%|█████████ | 90/100 [00:28<00:03,  2.88it/s]INFO:sciml.model.deeponet.deeponet:Epoch 90 completed\n",
      "Training progress:  91%|█████████ | 91/100 [00:28<00:03,  2.85it/s]INFO:sciml.model.deeponet.deeponet:Epoch 91 completed\n",
      "Training progress:  92%|█████████▏| 92/100 [00:29<00:02,  2.86it/s]INFO:sciml.model.deeponet.deeponet:Epoch 92 completed\n",
      "Training progress:  93%|█████████▎| 93/100 [00:29<00:02,  2.89it/s]INFO:sciml.model.deeponet.deeponet:Epoch 93 completed\n",
      "Training progress:  94%|█████████▍| 94/100 [00:29<00:02,  2.91it/s]INFO:sciml.model.deeponet.deeponet:Epoch 94 completed\n",
      "Training progress:  95%|█████████▌| 95/100 [00:30<00:01,  2.90it/s]INFO:sciml.model.deeponet.deeponet:Epoch 95 completed\n",
      "Training progress:  96%|█████████▌| 96/100 [00:30<00:01,  2.78it/s]INFO:sciml.model.deeponet.deeponet:Epoch 96 completed\n",
      "Training progress:  97%|█████████▋| 97/100 [00:30<00:01,  2.89it/s]INFO:sciml.model.deeponet.deeponet:Epoch 97 completed\n",
      "Training progress:  98%|█████████▊| 98/100 [00:31<00:00,  3.02it/s]INFO:sciml.model.deeponet.deeponet:Epoch 98 completed\n",
      "Training progress:  99%|█████████▉| 99/100 [00:31<00:00,  3.16it/s]INFO:sciml.model.deeponet.deeponet:Epoch 99 completed\n",
      "Training progress: 100%|██████████| 100/100 [00:31<00:00,  3.15it/s]\n"
     ]
    }
   ],
   "source": [
    "train_history = model.fit()"
   ]
  },
  {
   "cell_type": "code",
   "execution_count": 23,
   "metadata": {},
   "outputs": [
    {
     "data": {
      "image/png": "[encoded data removed]",
      "text/plain": [
       "<Figure size 640x480 with 1 Axes>"
      ]
     },
     "metadata": {},
     "output_type": "display_data"
    }
   ],
   "source": [
    "plt.plot(train_history)\n",
    "plt.grid()\n",
    "plt.show()"
   ]
  },
  {
   "cell_type": "code",
   "execution_count": null,
   "metadata": {},
   "outputs": [],
   "source": []
  }
 ],
 "metadata": {
  "kernelspec": {
   "display_name": ".venv",
   "language": "python",
   "name": "python3"
  },
  "language_info": {
   "codemirror_mode": {
    "name": "ipython",
    "version": 3
   },
   "file_extension": ".py",
   "mimetype": "text/x-python",
   "name": "python",
   "nbconvert_exporter": "python",
   "pygments_lexer": "ipython3",
   "version": "3.11.11"
  }
 },
 "nbformat": 4,
 "nbformat_minor": 2
}
