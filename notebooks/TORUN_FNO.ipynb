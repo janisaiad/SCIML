{
 "cells": [
  {
   "cell_type": "code",
   "execution_count": 1,
   "id": "9752a62a",
   "metadata": {
    "lines_to_next_cell": 0
   },
   "outputs": [
    {
     "name": "stderr",
     "output_type": "stream",
     "text": [
      "2025-03-17 01:44:24.280490: I tensorflow/core/util/port.cc:110] oneDNN custom operations are on. You may see slightly different numerical results due to floating-point round-off errors from different computation orders. To turn them off, set the environment variable `TF_ENABLE_ONEDNN_OPTS=0`.\n",
      "2025-03-17 01:44:24.282491: I tensorflow/tsl/cuda/cudart_stub.cc:28] Could not find cuda drivers on your machine, GPU will not be used.\n",
      "2025-03-17 01:44:24.315476: I tensorflow/tsl/cuda/cudart_stub.cc:28] Could not find cuda drivers on your machine, GPU will not be used.\n",
      "2025-03-17 01:44:24.316531: I tensorflow/core/platform/cpu_feature_guard.cc:182] This TensorFlow binary is optimized to use available CPU instructions in performance-critical operations.\n",
      "To enable the following instructions: AVX2 AVX512F AVX512_VNNI AVX512_BF16 FMA, in other operations, rebuild TensorFlow with the appropriate compiler flags.\n",
      "2025-03-17 01:44:24.971918: W tensorflow/compiler/tf2tensorrt/utils/py_utils.cc:38] TF-TRT Warning: Could not find TensorRT\n",
      "2025-03-17 01:44:26.468071: I tensorflow/compiler/xla/stream_executor/cuda/cuda_gpu_executor.cc:982] could not open file to read NUMA node: /sys/bus/pci/devices/0000:01:00.0/numa_node\n",
      "Your kernel may have been built without NUMA support.\n",
      "2025-03-17 01:44:26.558353: W tensorflow/core/common_runtime/gpu/gpu_device.cc:1956] Cannot dlopen some GPU libraries. Please make sure the missing libraries mentioned above are installed properly if you would like to use GPU. Follow the guide at https://www.tensorflow.org/install/gpu for how to download and setup the required libraries for your platform.\n",
      "Skipping registering GPU devices...\n"
     ]
    }
   ],
   "source": [
    "from sciml.model.fno import FNO\n",
    "import tensorflow as tf\n",
    "import numpy as np\n",
    "import matplotlib.pyplot as plt\n",
    "tf.config.list_physical_devices('GPU')\n",
    "import os\n",
    "from datetime import datetime"
   ]
  },
  {
   "cell_type": "code",
   "execution_count": 2,
   "id": "38f025b0",
   "metadata": {
    "lines_to_next_cell": 2
   },
   "outputs": [],
   "source": [
    "nb_xi = 2 # can be deduced from mu because it's len(mu.shape) - 1\n",
    "p_1 = 30 # dimension of scheme for xi for all i\n",
    "p_2 = 30 # dimension of scheme for xi for all i\n",
    "p_3 = 30 # dimension of scheme for xi for all i\n",
    "epochs = 50\n",
    "index = 450\n",
    "n_modes = p_1\n",
    "n_layers = 4 # need to be low because there is a low difference between the with time\n",
    "alpha = 0.5\n",
    "best_loss = 0.00005\n",
    "activation = 'relu'\n",
    "kernel_initializer = 'he_normal'\n",
    "device = \"GPU\"\n",
    "n_epochs = epochs\n"
   ]
  },
  {
   "cell_type": "code",
   "execution_count": 3,
   "id": "ddf87c97",
   "metadata": {
    "lines_to_end_of_cell_marker": 2
   },
   "outputs": [],
   "source": [
    "# inputs are of the form [batch, p_1, p_1, nd_xi +1] for nb_xi=2 (+1 because of the mu=f(x))\n",
    "\n",
    "first_network = tf.keras.Sequential([\n",
    "    tf.keras.layers.Input(shape=(p_1, p_1,)),  # [batch, p_1, p_1, 3]\n",
    "    tf.keras.layers.Flatten(),  # [batch, p_1*p_1*3]\n",
    "    tf.keras.layers.Dense(256, activation='relu'),\n",
    "    tf.keras.layers.Dense(128, activation='relu'),\n",
    "    tf.keras.layers.Dense(p_1 * p_1, activation='relu'),\n",
    "    tf.keras.layers.Reshape((p_1, p_1,))  # [batch, p_1, p_1, p_2]\n",
    "])\n",
    "\n",
    "last_network = tf.keras.Sequential([\n",
    "    tf.keras.layers.Input(shape=(p_1, p_1,)),  # [batch, p_1, p_1, 3]\n",
    "    tf.keras.layers.Flatten(),  # [batch, p_1*p_1*3]\n",
    "    tf.keras.layers.Dense(64, activation='relu'),\n",
    "    tf.keras.layers.Dense(32, activation='relu'),\n",
    "    tf.keras.layers.Dense(p_1 * p_1 * (1), activation='linear'),\n",
    "    tf.keras.layers.Reshape((p_1, p_1,))  # [batch, p_1, p_1, 3]\n",
    "])\n",
    "\n",
    "\n",
    "# first network graph:\n",
    "# [batch, p_1, p_1, 3] -> [batch, p_1*p_1*3] -> [batch, 512] -> [batch, 256] -> [batch, p_1*p_1*p_2] -> [batch, p_1, p_1, p_2]\n",
    "# last network graph:  \n",
    "# [batch, p_1, p_1, 3] -> [batch, p_1*p_1*3] -> [batch, 256] -> [batch, 512] -> [batch, p_1*p_1*3] -> [batch, p_1, p_1, 3]"
   ]
  },
  {
   "cell_type": "code",
   "execution_count": 4,
   "id": "4389c7c4",
   "metadata": {},
   "outputs": [],
   "source": [
    "folder_path = \"data/test_data/big_dataset_fno/heat2d/\""
   ]
  },
  {
   "cell_type": "code",
   "execution_count": 5,
   "id": "88ebba4b",
   "metadata": {},
   "outputs": [
    {
     "name": "stderr",
     "output_type": "stream",
     "text": [
      "2025-03-17 01:44:26,764 - sciml.model.fno.fno - INFO - Model initialized with 50 epochs, 32 batch size, 0.001 learning rate\n"
     ]
    }
   ],
   "source": [
    "model = FNO(regular_params={\"first_network\": first_network, \"last_network\": last_network},fourier_params={\"n_layers\": n_layers, \"dim_coords\":2, \"n_modes\": n_modes, \"activation\": activation, \"kernel_initializer\": kernel_initializer}, hyper_params={\"p_1\": p_1, \"p_2\": p_2,'p_3':p_3,\"device\": device,\"n_epochs\":n_epochs,\"index\":index,\"alpha\":alpha,\"folder_path\":folder_path,\"best_loss\":best_loss})"
   ]
  },
  {
   "cell_type": "code",
   "execution_count": 6,
   "id": "a22e9e81",
   "metadata": {
    "lines_to_next_cell": 2
   },
   "outputs": [],
   "source": [
    "os.makedirs('results/fnograph', exist_ok=True)"
   ]
  },
  {
   "cell_type": "code",
   "execution_count": 7,
   "id": "743fd78d",
   "metadata": {},
   "outputs": [],
   "source": [
    "date = datetime.now().strftime(\"%Y%m%d_%H%M%S\")"
   ]
  },
  {
   "cell_type": "code",
   "execution_count": 8,
   "id": "b67eab84",
   "metadata": {
    "lines_to_next_cell": 2
   },
   "outputs": [
    {
     "data": {
      "text/plain": [
       "\"\\ntf.keras.utils.plot_model(model, \\n                         to_file=f'results/fno/model_graph_{date}.png',\\n                         show_shapes=True, \\n                         show_layer_names=True)\\n\""
      ]
     },
     "execution_count": 8,
     "metadata": {},
     "output_type": "execute_result"
    }
   ],
   "source": [
    "'''\n",
    "tf.keras.utils.plot_model(model, \n",
    "                         to_file=f'results/fno/model_graph_{date}.png',\n",
    "                         show_shapes=True, \n",
    "                         show_layer_names=True)\n",
    "'''\n",
    "# we create a txt file to save the model summary"
   ]
  },
  {
   "cell_type": "markdown",
   "id": "49ed18d2",
   "metadata": {},
   "source": [
    "print(\"Model visualization and summary saved to results/fno/\")\n",
    "+\n",
    "mus, sol = model.get_data_partial(folder_path,alpha=alpha)"
   ]
  },
  {
   "cell_type": "code",
   "execution_count": 9,
   "id": "ca68b09f",
   "metadata": {},
   "outputs": [],
   "source": [
    "# print(mus.shape)\n",
    "# print(sol.shape)"
   ]
  },
  {
   "cell_type": "code",
   "execution_count": 10,
   "id": "b9d72bf6",
   "metadata": {},
   "outputs": [],
   "source": [
    "# import logging\n",
    "tf.get_logger().setLevel('ERROR')\n",
    "# Ajouter en haut du notebook pour désactiver tout le logging\n",
    "# logging.getLogger().setLevel(logging.ERROR)  # Ne montrera que les erreurs graves"
   ]
  },
  {
   "cell_type": "code",
   "execution_count": null,
   "id": "b994dc86",
   "metadata": {
    "lines_to_next_cell": 2
   },
   "outputs": [
    {
     "name": "stderr",
     "output_type": "stream",
     "text": [
      "2025-03-17 01:44:32,532 - sciml.model.fno.fno - INFO - === Partial Training Started ===\n",
      "2025-03-17 01:44:32,553 - sciml.model.fno.fno - INFO - Model Configuration:\n",
      "2025-03-17 01:44:32,556 - sciml.model.fno.fno - INFO - Hyperparameters: {\n",
      "  \"p_1\": 30,\n",
      "  \"p_2\": 30,\n",
      "  \"p_3\": 30,\n",
      "  \"device\": \"GPU\",\n",
      "  \"n_epochs\": 50,\n",
      "  \"index\": 450,\n",
      "  \"alpha\": 0.5,\n",
      "  \"folder_path\": \"data/test_data/big_dataset_fno/heat2d/\",\n",
      "  \"best_loss\": 5e-05\n",
      "}\n",
      "2025-03-17 01:44:32,557 - sciml.model.fno.fno - INFO - Fourier Parameters: {\n",
      "  \"n_layers\": 4,\n",
      "  \"dim_coords\": 2,\n",
      "  \"n_modes\": 30,\n",
      "  \"activation\": \"relu\",\n",
      "  \"kernel_initializer\": \"he_normal\"\n",
      "}\n",
      "2025-03-17 01:44:32,559 - sciml.model.fno.fno - INFO - Data Shape - Inputs: (500, 30, 30), Solutions: (500, 30, 30)\n",
      "2025-03-17 01:44:32,560 - sciml.model.fno.fno - INFO - Alpha (partial training fraction): 0.5\n",
      "2025-03-17 01:44:32,561 - sciml.model.fno.fno - INFO - Device: GPU\n",
      "2025-03-17 01:44:32.639556: I tensorflow/core/common_runtime/executor.cc:1197] [/device:CPU:0] (DEBUG INFO) Executor start aborting (this does not indicate an error and you can ignore this message): INVALID_ARGUMENT: You must feed a value for placeholder tensor 'Placeholder/_1' with dtype float and shape [500,30,30]\n",
      "\t [[{{node Placeholder/_1}}]]\n",
      "Training progress:   0%|          | 0/50 [00:00<?, ?it/s]2025-03-17 01:44:32.804869: I tensorflow/core/common_runtime/executor.cc:1197] [/device:CPU:0] (DEBUG INFO) Executor start aborting (this does not indicate an error and you can ignore this message): INVALID_ARGUMENT: You must feed a value for placeholder tensor 'Placeholder/_1' with dtype float and shape [400,30,30]\n",
      "\t [[{{node Placeholder/_1}}]]\n",
      "2025-03-17 01:44:34.618801: I tensorflow/core/common_runtime/executor.cc:1197] [/device:CPU:0] (DEBUG INFO) Executor start aborting (this does not indicate an error and you can ignore this message): INVALID_ARGUMENT: You must feed a value for placeholder tensor 'Placeholder/_1' with dtype float and shape [100,30,30]\n",
      "\t [[{{node Placeholder/_1}}]]\n",
      "2025-03-17 01:44:34,750 - sciml.model.fno.fno - INFO - Epoch 1/50\n",
      "2025-03-17 01:44:34,751 - sciml.model.fno.fno - INFO - Training Loss: 0.086067\n",
      "2025-03-17 01:44:34,752 - sciml.model.fno.fno - INFO - Test Loss: 0.069850\n",
      "Training progress:   2%|▏         | 1/50 [00:01<01:35,  1.95s/it]2025-03-17 01:44:36,136 - sciml.model.fno.fno - INFO - Epoch 2/50\n",
      "2025-03-17 01:44:36,136 - sciml.model.fno.fno - INFO - Training Loss: 0.075294\n",
      "2025-03-17 01:44:36,137 - sciml.model.fno.fno - INFO - Test Loss: 0.057033\n",
      "Training progress:   4%|▍         | 2/50 [00:03<01:17,  1.62s/it]2025-03-17 01:44:37,461 - sciml.model.fno.fno - INFO - Epoch 3/50\n",
      "2025-03-17 01:44:37,461 - sciml.model.fno.fno - INFO - Training Loss: 0.056171\n",
      "2025-03-17 01:44:37,462 - sciml.model.fno.fno - INFO - Test Loss: 0.031903\n",
      "Training progress:   6%|▌         | 3/50 [00:04<01:09,  1.48s/it]2025-03-17 01:44:38,844 - sciml.model.fno.fno - INFO - Epoch 4/50\n",
      "2025-03-17 01:44:38,845 - sciml.model.fno.fno - INFO - Training Loss: 0.018142\n",
      "2025-03-17 01:44:38,846 - sciml.model.fno.fno - INFO - Test Loss: 0.006974\n",
      "Training progress:   8%|▊         | 4/50 [00:06<01:06,  1.44s/it]2025-03-17 01:44:40,190 - sciml.model.fno.fno - INFO - Epoch 5/50\n",
      "2025-03-17 01:44:40,191 - sciml.model.fno.fno - INFO - Training Loss: 0.005896\n",
      "2025-03-17 01:44:40,192 - sciml.model.fno.fno - INFO - Test Loss: 0.005829\n",
      "Training progress:  10%|█         | 5/50 [00:07<01:03,  1.41s/it]2025-03-17 01:44:41,519 - sciml.model.fno.fno - INFO - Epoch 6/50\n",
      "2025-03-17 01:44:41,519 - sciml.model.fno.fno - INFO - Training Loss: 0.003135\n",
      "2025-03-17 01:44:41,520 - sciml.model.fno.fno - INFO - Test Loss: 0.002877\n",
      "Training progress:  12%|█▏        | 6/50 [00:08<01:00,  1.38s/it]2025-03-17 01:44:42,885 - sciml.model.fno.fno - INFO - Epoch 7/50\n",
      "2025-03-17 01:44:42,886 - sciml.model.fno.fno - INFO - Training Loss: 0.001500\n",
      "2025-03-17 01:44:42,887 - sciml.model.fno.fno - INFO - Test Loss: 0.001156\n",
      "Training progress:  14%|█▍        | 7/50 [00:10<00:59,  1.38s/it]2025-03-17 01:44:44,264 - sciml.model.fno.fno - INFO - Epoch 8/50\n",
      "2025-03-17 01:44:44,265 - sciml.model.fno.fno - INFO - Training Loss: 0.000866\n",
      "2025-03-17 01:44:44,265 - sciml.model.fno.fno - INFO - Test Loss: 0.000819\n",
      "Training progress:  16%|█▌        | 8/50 [00:11<00:57,  1.38s/it]2025-03-17 01:44:45,597 - sciml.model.fno.fno - INFO - Epoch 9/50\n",
      "2025-03-17 01:44:45,598 - sciml.model.fno.fno - INFO - Training Loss: 0.000645\n",
      "2025-03-17 01:44:45,598 - sciml.model.fno.fno - INFO - Test Loss: 0.000633\n",
      "Training progress:  18%|█▊        | 9/50 [00:12<00:55,  1.36s/it]2025-03-17 01:44:46,865 - sciml.model.fno.fno - INFO - Epoch 10/50\n",
      "2025-03-17 01:44:46,866 - sciml.model.fno.fno - INFO - Training Loss: 0.000511\n",
      "2025-03-17 01:44:46,866 - sciml.model.fno.fno - INFO - Test Loss: 0.000481\n",
      "Training progress:  20%|██        | 10/50 [00:14<00:53,  1.33s/it]2025-03-17 01:44:48,131 - sciml.model.fno.fno - INFO - Epoch 11/50\n",
      "2025-03-17 01:44:48,132 - sciml.model.fno.fno - INFO - Training Loss: 0.000414\n",
      "2025-03-17 01:44:48,132 - sciml.model.fno.fno - INFO - Test Loss: 0.000388\n",
      "Training progress:  22%|██▏       | 11/50 [00:15<00:51,  1.31s/it]2025-03-17 01:44:49,389 - sciml.model.fno.fno - INFO - Epoch 12/50\n",
      "2025-03-17 01:44:49,390 - sciml.model.fno.fno - INFO - Training Loss: 0.000342\n",
      "2025-03-17 01:44:49,391 - sciml.model.fno.fno - INFO - Test Loss: 0.000327\n",
      "Training progress:  24%|██▍       | 12/50 [00:16<00:49,  1.30s/it]2025-03-17 01:44:50,647 - sciml.model.fno.fno - INFO - Epoch 13/50\n",
      "2025-03-17 01:44:50,648 - sciml.model.fno.fno - INFO - Training Loss: 0.000296\n",
      "2025-03-17 01:44:50,648 - sciml.model.fno.fno - INFO - Test Loss: 0.000289\n",
      "Training progress:  26%|██▌       | 13/50 [00:17<00:47,  1.28s/it]2025-03-17 01:44:51,969 - sciml.model.fno.fno - INFO - Epoch 14/50\n",
      "2025-03-17 01:44:51,970 - sciml.model.fno.fno - INFO - Training Loss: 0.000260\n",
      "2025-03-17 01:44:51,971 - sciml.model.fno.fno - INFO - Test Loss: 0.000262\n",
      "Training progress:  28%|██▊       | 14/50 [00:19<00:46,  1.30s/it]2025-03-17 01:44:53,257 - sciml.model.fno.fno - INFO - Epoch 15/50\n",
      "2025-03-17 01:44:53,257 - sciml.model.fno.fno - INFO - Training Loss: 0.000238\n",
      "2025-03-17 01:44:53,258 - sciml.model.fno.fno - INFO - Test Loss: 0.000240\n",
      "Training progress:  30%|███       | 15/50 [00:20<00:45,  1.29s/it]2025-03-17 01:44:54,547 - sciml.model.fno.fno - INFO - Epoch 16/50\n",
      "2025-03-17 01:44:54,548 - sciml.model.fno.fno - INFO - Training Loss: 0.000219\n",
      "2025-03-17 01:44:54,548 - sciml.model.fno.fno - INFO - Test Loss: 0.000222\n",
      "Training progress:  32%|███▏      | 16/50 [00:21<00:43,  1.29s/it]2025-03-17 01:44:55,789 - sciml.model.fno.fno - INFO - Epoch 17/50\n",
      "2025-03-17 01:44:55,789 - sciml.model.fno.fno - INFO - Training Loss: 0.000202\n",
      "2025-03-17 01:44:55,790 - sciml.model.fno.fno - INFO - Test Loss: 0.000208\n",
      "Training progress:  34%|███▍      | 17/50 [00:22<00:42,  1.28s/it]2025-03-17 01:44:57,048 - sciml.model.fno.fno - INFO - Epoch 18/50\n",
      "2025-03-17 01:44:57,049 - sciml.model.fno.fno - INFO - Training Loss: 0.000190\n",
      "2025-03-17 01:44:57,050 - sciml.model.fno.fno - INFO - Test Loss: 0.000197\n",
      "Training progress:  36%|███▌      | 18/50 [00:24<00:40,  1.27s/it]2025-03-17 01:44:58,331 - sciml.model.fno.fno - INFO - Epoch 19/50\n",
      "2025-03-17 01:44:58,332 - sciml.model.fno.fno - INFO - Training Loss: 0.000179\n",
      "2025-03-17 01:44:58,332 - sciml.model.fno.fno - INFO - Test Loss: 0.000188\n",
      "Training progress:  38%|███▊      | 19/50 [00:25<00:39,  1.28s/it]2025-03-17 01:44:59,588 - sciml.model.fno.fno - INFO - Epoch 20/50\n",
      "2025-03-17 01:44:59,589 - sciml.model.fno.fno - INFO - Training Loss: 0.000171\n",
      "2025-03-17 01:44:59,590 - sciml.model.fno.fno - INFO - Test Loss: 0.000180\n",
      "Training progress:  40%|████      | 20/50 [00:26<00:38,  1.27s/it]"
     ]
    }
   ],
   "source": [
    "loss_history_train,loss_history_test = model.fit_partial(save_weights=True)"
   ]
  },
  {
   "cell_type": "code",
   "execution_count": null,
   "id": "c8a18f13",
   "metadata": {},
   "outputs": [],
   "source": [
    "try:\n",
    "    with open(f'results/fnograph/model_summary_{date}.txt', 'w') as f:\n",
    "        model.summary(print_fn=lambda x: f.write(x + '\\n'))\n",
    "except Exception as e:\n",
    "    print(f\"Error saving model summary: {e}\")\n",
    "    pass"
   ]
  },
  {
   "cell_type": "code",
   "execution_count": null,
   "id": "a96ae575",
   "metadata": {},
   "outputs": [],
   "source": [
    "print(len(loss_history_train))\n",
    "print(len(loss_history_test))"
   ]
  },
  {
   "cell_type": "code",
   "execution_count": null,
   "id": "97b26d12",
   "metadata": {},
   "outputs": [],
   "source": [
    "from datetime import datetime\n",
    "plt.plot(loss_history_train,color='blue')\n",
    "plt.plot(loss_history_test,color='red')\n",
    "plt.legend(['Train','Test'])\n",
    "plt.xlabel('Epoch')\n",
    "plt.ylabel('Loss')\n",
    "plt.yscale('log')\n",
    "plt.grid()\n",
    "date = datetime.now().strftime(\"%Y%m%d_%H%M%S\")\n",
    "plt.savefig(f'results/loss_history_fno{date}.png')\n",
    "plt.show()"
   ]
  },
  {
   "cell_type": "code",
   "execution_count": null,
   "id": "53494d31",
   "metadata": {},
   "outputs": [],
   "source": []
  }
 ],
 "metadata": {
  "kernelspec": {
   "display_name": ".venv",
   "language": "python",
   "name": "python3"
  },
  "language_info": {
   "codemirror_mode": {
    "name": "ipython",
    "version": 3
   },
   "file_extension": ".py",
   "mimetype": "text/x-python",
   "name": "python",
   "nbconvert_exporter": "python",
   "pygments_lexer": "ipython3",
   "version": "3.11.11"
  }
 },
 "nbformat": 4,
 "nbformat_minor": 5
}
