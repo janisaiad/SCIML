{
 "cells": [
  {
   "cell_type": "code",
   "execution_count": 1,
   "id": "3afa440a",
   "metadata": {
    "lines_to_end_of_cell_marker": 2
   },
   "outputs": [
    {
     "name": "stderr",
     "output_type": "stream",
     "text": [
      "2025-03-15 02:11:36.096578: I tensorflow/core/util/port.cc:153] oneDNN custom operations are on. You may see slightly different numerical results due to floating-point round-off errors from different computation orders. To turn them off, set the environment variable `TF_ENABLE_ONEDNN_OPTS=0`.\n",
      "2025-03-15 02:11:36.115527: E external/local_xla/xla/stream_executor/cuda/cuda_fft.cc:467] Unable to register cuFFT factory: Attempting to register factory for plugin cuFFT when one has already been registered\n",
      "WARNING: All log messages before absl::InitializeLog() is called are written to STDERR\n",
      "E0000 00:00:1742001096.139418  217448 cuda_dnn.cc:8579] Unable to register cuDNN factory: Attempting to register factory for plugin cuDNN when one has already been registered\n",
      "E0000 00:00:1742001096.147878  217448 cuda_blas.cc:1407] Unable to register cuBLAS factory: Attempting to register factory for plugin cuBLAS when one has already been registered\n",
      "W0000 00:00:1742001096.166250  217448 computation_placer.cc:177] computation placer already registered. Please check linkage and avoid linking the same target more than once.\n",
      "W0000 00:00:1742001096.166277  217448 computation_placer.cc:177] computation placer already registered. Please check linkage and avoid linking the same target more than once.\n",
      "W0000 00:00:1742001096.166278  217448 computation_placer.cc:177] computation placer already registered. Please check linkage and avoid linking the same target more than once.\n",
      "W0000 00:00:1742001096.166280  217448 computation_placer.cc:177] computation placer already registered. Please check linkage and avoid linking the same target more than once.\n",
      "2025-03-15 02:11:36.170683: I tensorflow/core/platform/cpu_feature_guard.cc:210] This TensorFlow binary is optimized to use available CPU instructions in performance-critical operations.\n",
      "To enable the following instructions: AVX2 AVX512F AVX512_VNNI AVX512_BF16 FMA, in other operations, rebuild TensorFlow with the appropriate compiler flags.\n"
     ]
    },
    {
     "data": {
      "text/plain": [
       "[PhysicalDevice(name='/physical_device:GPU:0', device_type='GPU')]"
      ]
     },
     "execution_count": 1,
     "metadata": {},
     "output_type": "execute_result"
    }
   ],
   "source": [
    "from sciml.model.fno import FNO\n",
    "import tensorflow as tf\n",
    "import numpy as np\n",
    "import matplotlib.pyplot as plt\n",
    "tf.config.list_physical_devices('GPU')"
   ]
  },
  {
   "cell_type": "code",
   "execution_count": 2,
   "id": "27d56547",
   "metadata": {
    "lines_to_next_cell": 2
   },
   "outputs": [],
   "source": [
    "nb_xi = 2 # can be deduced from mu because it's len(mu.shape) - 1\n",
    "p_1 = 30 # dimension of scheme for xi for all i\n",
    "p_2 = 30 # dimension of scheme for xi for all i\n",
    "p_3 = 30 # dimension of scheme for xi for all i\n",
    "epochs = 50\n",
    "index = 50\n",
    "n_modes = p_1\n",
    "n_layers = 8\n",
    "alpha = 0.4\n",
    "\n",
    "activation = 'relu'\n",
    "kernel_initializer = 'he_normal'\n",
    "device = \"GPU\"\n",
    "n_epochs = epochs\n"
   ]
  },
  {
   "cell_type": "code",
   "execution_count": 3,
   "id": "bec67b9f",
   "metadata": {
    "lines_to_end_of_cell_marker": 2
   },
   "outputs": [
    {
     "name": "stderr",
     "output_type": "stream",
     "text": [
      "I0000 00:00:1742001099.386412  217448 gpu_device.cc:2019] Created device /job:localhost/replica:0/task:0/device:GPU:0 with 5563 MB memory:  -> device: 0, name: NVIDIA GeForce RTX 4060 Laptop GPU, pci bus id: 0000:01:00.0, compute capability: 8.9\n"
     ]
    }
   ],
   "source": [
    "# inputs are of the form [batch, p_1, p_1, nd_xi +1] for nb_xi=2 (+1 because of the mu=f(x))\n",
    "\n",
    "first_network = tf.keras.Sequential([\n",
    "    tf.keras.layers.InputLayer(shape=(p_1, p_1,)),  # [batch, p_1, p_1, 3]\n",
    "    tf.keras.layers.Flatten(),  # [batch, p_1*p_1*3]\n",
    "    tf.keras.layers.Dense(512, activation='relu'),\n",
    "    tf.keras.layers.Dense(256, activation='relu'),\n",
    "    tf.keras.layers.Dense(p_1 * p_1, activation='relu'),\n",
    "    tf.keras.layers.Reshape((p_1, p_1,))  # [batch, p_1, p_1, p_2]\n",
    "])\n",
    "\n",
    "last_network = tf.keras.Sequential([\n",
    "    tf.keras.layers.InputLayer(shape=(p_1, p_1,)),  # [batch, p_1, p_1, 3]\n",
    "    tf.keras.layers.Flatten(),  # [batch, p_1*p_1*3]\n",
    "    tf.keras.layers.Dense(256, activation='relu'),\n",
    "    tf.keras.layers.Dense(512, activation='relu'),\n",
    "    tf.keras.layers.Dense(p_1 * p_1 * (1), activation='linear'),\n",
    "    tf.keras.layers.Reshape((p_1, p_1,))  # [batch, p_1, p_1, 3]\n",
    "])\n",
    "\n",
    "# first network graph:\n",
    "# [batch, p_1, p_1, 3] -> [batch, p_1*p_1*3] -> [batch, 512] -> [batch, 256] -> [batch, p_1*p_1*p_2] -> [batch, p_1, p_1, p_2]\n",
    "# last network graph:  \n",
    "# [batch, p_1, p_1, 3] -> [batch, p_1*p_1*3] -> [batch, 256] -> [batch, 512] -> [batch, p_1*p_1*3] -> [batch, p_1, p_1, 3]"
   ]
  },
  {
   "cell_type": "code",
   "execution_count": 4,
   "id": "30d1a04c",
   "metadata": {},
   "outputs": [],
   "source": [
    "folder_path = \"data/test_data/big_dataset_fno/heat2d/\""
   ]
  },
  {
   "cell_type": "code",
   "execution_count": 5,
   "id": "3e406c23",
   "metadata": {},
   "outputs": [
    {
     "name": "stderr",
     "output_type": "stream",
     "text": [
      "INFO:sciml.model.fno.fno:Model initialized with 50 epochs, 32 batch size, 0.001 learning rate\n"
     ]
    }
   ],
   "source": [
    "model = FNO(regular_params={\"first_network\": first_network, \"last_network\": last_network},fourier_params={\"n_layers\": n_layers, \"dim_coords\":2, \"n_modes\": n_modes, \"activation\": activation, \"kernel_initializer\": kernel_initializer}, hyper_params={\"p_1\": p_1, \"p_2\": p_2,'p_3':p_3,\"device\": device,\"n_epochs\":n_epochs,\"index\":index,\"alpha\":alpha,\"folder_path\":folder_path})"
   ]
  },
  {
   "cell_type": "code",
   "execution_count": 6,
   "id": "eb9f3d88",
   "metadata": {},
   "outputs": [],
   "source": [
    "# mus, sol = model.get_data_partial(folder_path,alpha=alpha)"
   ]
  },
  {
   "cell_type": "code",
   "execution_count": 7,
   "id": "2600011d",
   "metadata": {},
   "outputs": [],
   "source": [
    "# print(mus.shape)\n",
    "# print(sol.shape)"
   ]
  },
  {
   "cell_type": "code",
   "execution_count": 8,
   "id": "c7da4cd3",
   "metadata": {},
   "outputs": [],
   "source": [
    "import os\n",
    "\n",
    "tf.get_logger().setLevel('ERROR')\n"
   ]
  },
  {
   "cell_type": "code",
   "execution_count": 9,
   "id": "d6065ca5",
   "metadata": {},
   "outputs": [
    {
     "name": "stderr",
     "output_type": "stream",
     "text": [
      "2025-03-15 02:11:43.116084: I tensorflow/core/framework/local_rendezvous.cc:407] Local rendezvous is aborting with status: OUT_OF_RANGE: End of sequence\n",
      "Training progress:   0%|          | 0/50 [00:00<?, ?it/s]2025-03-15 02:11:45.485154: I tensorflow/core/framework/local_rendezvous.cc:407] Local rendezvous is aborting with status: OUT_OF_RANGE: End of sequence\n",
      "INFO:sciml.model.fno.fno:Epoch 0 completed\n",
      "Training progress:   2%|▏         | 1/50 [00:02<01:57,  2.40s/it]2025-03-15 02:11:46.645529: I tensorflow/core/framework/local_rendezvous.cc:407] Local rendezvous is aborting with status: OUT_OF_RANGE: End of sequence\n",
      "INFO:sciml.model.fno.fno:Epoch 1 completed\n",
      "Training progress:   4%|▍         | 2/50 [00:03<01:20,  1.67s/it]INFO:sciml.model.fno.fno:Epoch 2 completed\n",
      "Training progress:   6%|▌         | 3/50 [00:04<01:03,  1.36s/it]2025-03-15 02:11:48.565789: I tensorflow/core/framework/local_rendezvous.cc:407] Local rendezvous is aborting with status: OUT_OF_RANGE: End of sequence\n",
      "INFO:sciml.model.fno.fno:Epoch 3 completed\n",
      "Training progress:   8%|▊         | 4/50 [00:05<00:54,  1.19s/it]INFO:sciml.model.fno.fno:Epoch 4 completed\n",
      "Training progress:  10%|█         | 5/50 [00:06<00:50,  1.11s/it]INFO:sciml.model.fno.fno:Epoch 5 completed\n",
      "Training progress:  12%|█▏        | 6/50 [00:07<00:46,  1.06s/it]INFO:sciml.model.fno.fno:Epoch 6 completed\n",
      "Training progress:  14%|█▍        | 7/50 [00:08<00:44,  1.03s/it]2025-03-15 02:11:52.355581: I tensorflow/core/framework/local_rendezvous.cc:407] Local rendezvous is aborting with status: OUT_OF_RANGE: End of sequence\n",
      "INFO:sciml.model.fno.fno:Epoch 7 completed\n",
      "Training progress:  16%|█▌        | 8/50 [00:09<00:41,  1.02it/s]INFO:sciml.model.fno.fno:Epoch 8 completed\n",
      "Training progress:  18%|█▊        | 9/50 [00:10<00:40,  1.01it/s]INFO:sciml.model.fno.fno:Epoch 9 completed\n",
      "Training progress:  20%|██        | 10/50 [00:11<00:39,  1.01it/s]INFO:sciml.model.fno.fno:Epoch 10 completed\n",
      "Training progress:  22%|██▏       | 11/50 [00:12<00:37,  1.03it/s]INFO:sciml.model.fno.fno:Epoch 11 completed\n",
      "Training progress:  24%|██▍       | 12/50 [00:13<00:35,  1.07it/s]INFO:sciml.model.fno.fno:Epoch 12 completed\n",
      "Training progress:  26%|██▌       | 13/50 [00:13<00:34,  1.07it/s]INFO:sciml.model.fno.fno:Epoch 13 completed\n",
      "Training progress:  28%|██▊       | 14/50 [00:14<00:33,  1.08it/s]INFO:sciml.model.fno.fno:Epoch 14 completed\n",
      "Training progress:  30%|███       | 15/50 [00:15<00:32,  1.07it/s]2025-03-15 02:11:59.828483: I tensorflow/core/framework/local_rendezvous.cc:407] Local rendezvous is aborting with status: OUT_OF_RANGE: End of sequence\n",
      "INFO:sciml.model.fno.fno:Epoch 15 completed\n",
      "Training progress:  32%|███▏      | 16/50 [00:16<00:31,  1.08it/s]INFO:sciml.model.fno.fno:Epoch 16 completed\n",
      "Training progress:  34%|███▍      | 17/50 [00:17<00:31,  1.05it/s]INFO:sciml.model.fno.fno:Epoch 17 completed\n",
      "Training progress:  36%|███▌      | 18/50 [00:18<00:30,  1.05it/s]INFO:sciml.model.fno.fno:Epoch 18 completed\n",
      "Training progress:  38%|███▊      | 19/50 [00:19<00:28,  1.09it/s]INFO:sciml.model.fno.fno:Epoch 19 completed\n",
      "Training progress:  40%|████      | 20/50 [00:20<00:27,  1.10it/s]INFO:sciml.model.fno.fno:Epoch 20 completed\n",
      "Training progress:  42%|████▏     | 21/50 [00:21<00:25,  1.13it/s]INFO:sciml.model.fno.fno:Epoch 21 completed\n",
      "Training progress:  44%|████▍     | 22/50 [00:22<00:24,  1.14it/s]INFO:sciml.model.fno.fno:Epoch 22 completed\n",
      "Training progress:  46%|████▌     | 23/50 [00:22<00:23,  1.16it/s]INFO:sciml.model.fno.fno:Epoch 23 completed\n",
      "Training progress:  48%|████▊     | 24/50 [00:23<00:22,  1.18it/s]INFO:sciml.model.fno.fno:Epoch 24 completed\n",
      "Training progress:  50%|█████     | 25/50 [00:24<00:21,  1.18it/s]INFO:sciml.model.fno.fno:Epoch 25 completed\n",
      "Training progress:  52%|█████▏    | 26/50 [00:25<00:20,  1.20it/s]INFO:sciml.model.fno.fno:Epoch 26 completed\n",
      "Training progress:  54%|█████▍    | 27/50 [00:26<00:19,  1.19it/s]INFO:sciml.model.fno.fno:Epoch 27 completed\n",
      "Training progress:  56%|█████▌    | 28/50 [00:27<00:18,  1.21it/s]INFO:sciml.model.fno.fno:Epoch 28 completed\n",
      "Training progress:  58%|█████▊    | 29/50 [00:27<00:17,  1.21it/s]INFO:sciml.model.fno.fno:Epoch 29 completed\n",
      "Training progress:  60%|██████    | 30/50 [00:28<00:16,  1.20it/s]INFO:sciml.model.fno.fno:Epoch 30 completed\n",
      "Training progress:  62%|██████▏   | 31/50 [00:29<00:15,  1.22it/s]2025-03-15 02:12:13.410822: I tensorflow/core/framework/local_rendezvous.cc:407] Local rendezvous is aborting with status: OUT_OF_RANGE: End of sequence\n",
      "INFO:sciml.model.fno.fno:Epoch 31 completed\n",
      "Training progress:  64%|██████▍   | 32/50 [00:30<00:14,  1.23it/s]INFO:sciml.model.fno.fno:Epoch 32 completed\n",
      "Training progress:  66%|██████▌   | 33/50 [00:31<00:13,  1.24it/s]INFO:sciml.model.fno.fno:Epoch 33 completed\n",
      "Training progress:  68%|██████▊   | 34/50 [00:31<00:12,  1.25it/s]INFO:sciml.model.fno.fno:Epoch 34 completed\n",
      "INFO:sciml.model.fno.fno:Epoch 35 completed\n",
      "INFO:sciml.model.fno.fno:Epoch 36 completed\n",
      "Training progress:  74%|███████▍  | 37/50 [00:32<00:05,  2.22it/s]INFO:sciml.model.fno.fno:Epoch 37 completed\n",
      "Training progress:  76%|███████▌  | 38/50 [00:33<00:06,  1.92it/s]INFO:sciml.model.fno.fno:Epoch 38 completed\n",
      "Training progress:  78%|███████▊  | 39/50 [00:33<00:06,  1.72it/s]INFO:sciml.model.fno.fno:Epoch 39 completed\n",
      "Training progress:  80%|████████  | 40/50 [00:34<00:06,  1.57it/s]INFO:sciml.model.fno.fno:Epoch 40 completed\n",
      "Training progress:  82%|████████▏ | 41/50 [00:35<00:06,  1.46it/s]INFO:sciml.model.fno.fno:Epoch 41 completed\n",
      "Training progress:  84%|████████▍ | 42/50 [00:36<00:05,  1.42it/s]INFO:sciml.model.fno.fno:Epoch 42 completed\n",
      "Training progress:  86%|████████▌ | 43/50 [00:37<00:05,  1.39it/s]INFO:sciml.model.fno.fno:Epoch 43 completed\n",
      "Training progress:  88%|████████▊ | 44/50 [00:37<00:04,  1.36it/s]INFO:sciml.model.fno.fno:Epoch 44 completed\n",
      "Training progress:  90%|█████████ | 45/50 [00:38<00:03,  1.36it/s]INFO:sciml.model.fno.fno:Epoch 45 completed\n",
      "Training progress:  92%|█████████▏| 46/50 [00:39<00:02,  1.34it/s]INFO:sciml.model.fno.fno:Epoch 46 completed\n",
      "Training progress:  94%|█████████▍| 47/50 [00:40<00:02,  1.33it/s]INFO:sciml.model.fno.fno:Epoch 47 completed\n",
      "Training progress:  96%|█████████▌| 48/50 [00:40<00:01,  1.32it/s]INFO:sciml.model.fno.fno:Epoch 48 completed\n",
      "Training progress:  98%|█████████▊| 49/50 [00:41<00:00,  1.30it/s]INFO:sciml.model.fno.fno:Epoch 49 completed\n",
      "Training progress: 100%|██████████| 50/50 [00:42<00:00,  1.18it/s]\n",
      "INFO:sciml.model.fno.fno:Train loss: 0.0002079014666378498\n",
      "INFO:sciml.model.fno.fno:Test loss: 0.0002324505476281047\n"
     ]
    }
   ],
   "source": [
    "loss_history_train,loss_history_test = model.fit_partial()"
   ]
  },
  {
   "cell_type": "code",
   "execution_count": 10,
   "id": "2386bd63",
   "metadata": {},
   "outputs": [
    {
     "name": "stdout",
     "output_type": "stream",
     "text": [
      "50\n",
      "50\n"
     ]
    }
   ],
   "source": [
    "print(len(loss_history_train))\n",
    "print(len(loss_history_test))"
   ]
  },
  {
   "cell_type": "code",
   "execution_count": 11,
   "id": "4105582b",
   "metadata": {},
   "outputs": [
    {
     "data": {
      "image/png": "[encoded data removed]",
      "text/plain": [
       "<Figure size 640x480 with 1 Axes>"
      ]
     },
     "metadata": {},
     "output_type": "display_data"
    }
   ],
   "source": [
    "plt.plot(loss_history_train,color='blue')\n",
    "plt.plot(loss_history_test,color='red')\n",
    "plt.legend(['Train','Test'])\n",
    "plt.xlabel('Epoch')\n",
    "plt.ylabel('Loss')\n",
    "plt.yscale('log')\n",
    "plt.grid()\n",
    "plt.show()"
   ]
  },
  {
   "cell_type": "code",
   "execution_count": null,
   "id": "a6a0a47b",
   "metadata": {},
   "outputs": [],
   "source": []
  }
 ],
 "metadata": {
  "kernelspec": {
   "display_name": ".venv",
   "language": "python",
   "name": "python3"
  },
  "language_info": {
   "codemirror_mode": {
    "name": "ipython",
    "version": 3
   },
   "file_extension": ".py",
   "mimetype": "text/x-python",
   "name": "python",
   "nbconvert_exporter": "python",
   "pygments_lexer": "ipython3",
   "version": "3.11.11"
  }
 },
 "nbformat": 4,
 "nbformat_minor": 5
}
