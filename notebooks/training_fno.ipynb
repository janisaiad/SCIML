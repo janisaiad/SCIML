{
 "cells": [
  {
   "cell_type": "code",
   "execution_count": 1,
   "id": "3afa440a",
   "metadata": {
    "lines_to_end_of_cell_marker": 2
   },
   "outputs": [
    {
     "name": "stderr",
     "output_type": "stream",
     "text": [
      "2025-03-08 22:11:49.628324: I tensorflow/core/util/port.cc:153] oneDNN custom operations are on. You may see slightly different numerical results due to floating-point round-off errors from different computation orders. To turn them off, set the environment variable `TF_ENABLE_ONEDNN_OPTS=0`.\n",
      "2025-03-08 22:11:49.639856: E external/local_xla/xla/stream_executor/cuda/cuda_fft.cc:477] Unable to register cuFFT factory: Attempting to register factory for plugin cuFFT when one has already been registered\n",
      "WARNING: All log messages before absl::InitializeLog() is called are written to STDERR\n",
      "E0000 00:00:1741468309.655086   91151 cuda_dnn.cc:8310] Unable to register cuDNN factory: Attempting to register factory for plugin cuDNN when one has already been registered\n",
      "E0000 00:00:1741468309.659102   91151 cuda_blas.cc:1418] Unable to register cuBLAS factory: Attempting to register factory for plugin cuBLAS when one has already been registered\n",
      "2025-03-08 22:11:49.675063: I tensorflow/core/platform/cpu_feature_guard.cc:210] This TensorFlow binary is optimized to use available CPU instructions in performance-critical operations.\n",
      "To enable the following instructions: AVX2 AVX512F AVX512_VNNI AVX512_BF16 FMA, in other operations, rebuild TensorFlow with the appropriate compiler flags.\n"
     ]
    },
    {
     "data": {
      "text/plain": [
       "[PhysicalDevice(name='/physical_device:GPU:0', device_type='GPU')]"
      ]
     },
     "execution_count": 1,
     "metadata": {},
     "output_type": "execute_result"
    }
   ],
   "source": [
    "from sciml.model.fno import FNO\n",
    "import tensorflow as tf\n",
    "import numpy as np\n",
    "import matplotlib.pyplot as plt\n",
    "tf.config.list_physical_devices('GPU')"
   ]
  },
  {
   "cell_type": "code",
   "execution_count": 2,
   "id": "27d56547",
   "metadata": {
    "lines_to_next_cell": 2
   },
   "outputs": [],
   "source": [
    "p_1 = 80\n",
    "p_2 = 80\n",
    "p_3 = 80\n",
    "epochs = 3  "
   ]
  },
  {
   "cell_type": "code",
   "execution_count": 3,
   "id": "bec67b9f",
   "metadata": {
    "lines_to_end_of_cell_marker": 2
   },
   "outputs": [
    {
     "name": "stderr",
     "output_type": "stream",
     "text": [
      "I0000 00:00:1741468312.059451   91151 gpu_device.cc:2022] Created device /job:localhost/replica:0/task:0/device:GPU:0 with 5563 MB memory:  -> device: 0, name: NVIDIA GeForce RTX 4060 Laptop GPU, pci bus id: 0000:01:00.0, compute capability: 8.9\n"
     ]
    }
   ],
   "source": [
    "first_network = tf.keras.Sequential([\n",
    "    tf.keras.layers.InputLayer(shape=(p_1,)),\n",
    "    tf.keras.layers.Dense(40, activation='relu'),\n",
    "    tf.keras.layers.Dense(128, activation='relu'),\n",
    "    tf.keras.layers.Dense(40, activation='relu'),\n",
    "])\n",
    "\n",
    "last_network = tf.keras.Sequential([\n",
    "    tf.keras.layers.InputLayer(shape=(p_2,)),\n",
    "    tf.keras.layers.Dense(40, activation='relu'),\n",
    "    tf.keras.layers.Dense(128, activation='relu'),\n",
    "    tf.keras.layers.Dense(p_3, activation='relu'),\n",
    "])"
   ]
  },
  {
   "cell_type": "code",
   "execution_count": 4,
   "id": "30d1a04c",
   "metadata": {},
   "outputs": [],
   "source": [
    "folder_path = \"data/test_data/example_data/heat2d/\""
   ]
  },
  {
   "cell_type": "code",
   "execution_count": 5,
   "id": "3e406c23",
   "metadata": {},
   "outputs": [
    {
     "name": "stderr",
     "output_type": "stream",
     "text": [
      "INFO:sciml.model.fno.fno:Model initialized with 3 epochs, 32 batch size, 0.001 learning rate\n"
     ]
    }
   ],
   "source": [
    "model = FNO(regular_params={\"first_network\": first_network, \"last_network\": last_network},fourier_params={\"n_layers\": 3, \"n_modes\": 16, \"activation\": 'relu', \"kernel_initializer\": 'he_normal'}, hyper_params={\"p_1\": p_1, \"p_2\": p_2,'p_3':p_3,\"device\": \"GPU\",\"n_epochs\":epochs})"
   ]
  },
  {
   "cell_type": "code",
   "execution_count": 6,
   "id": "eb9f3d88",
   "metadata": {},
   "outputs": [
    {
     "name": "stderr",
     "output_type": "stream",
     "text": [
      "Loading mu data: 100%|██████████| 40/40 [00:00<00:00, 15538.78it/s]\n",
      "Loading x data: 100%|██████████| 40/40 [00:00<00:00, 5834.13it/s]\n",
      "Loading y data: 100%|██████████| 40/40 [00:00<00:00, 8728.13it/s]\n"
     ]
    }
   ],
   "source": [
    "mus, xs, sol = model.get_data(folder_path)"
   ]
  },
  {
   "cell_type": "code",
   "execution_count": 7,
   "id": "2600011d",
   "metadata": {},
   "outputs": [
    {
     "name": "stdout",
     "output_type": "stream",
     "text": [
      "(40, 80)\n",
      "(40, 8000, 3)\n",
      "(40, 8000)\n"
     ]
    }
   ],
   "source": [
    "print(mus.shape)\n",
    "print(xs.shape)\n",
    "print(sol.shape)"
   ]
  },
  {
   "cell_type": "code",
   "execution_count": 8,
   "id": "d6065ca5",
   "metadata": {},
   "outputs": [
    {
     "name": "stderr",
     "output_type": "stream",
     "text": [
      "Loading mu data: 100%|██████████| 40/40 [00:00<00:00, 20037.28it/s]\n",
      "Loading x data: 100%|██████████| 40/40 [00:00<00:00, 8519.38it/s]\n",
      "Loading y data: 100%|██████████| 40/40 [00:00<00:00, 12623.94it/s]\n",
      "Training progress:   0%|          | 0/3 [00:00<?, ?it/s]2025-03-08 22:11:53.440918: W tensorflow/core/framework/op_kernel.cc:1829] INVALID_ARGUMENT: required broadcastable shapes\n",
      "2025-03-08 22:11:53.440962: I tensorflow/core/framework/local_rendezvous.cc:405] Local rendezvous is aborting with status: INVALID_ARGUMENT: required broadcastable shapes\n",
      "Training progress:   0%|          | 0/3 [00:00<?, ?it/s]\n"
     ]
    },
    {
     "ename": "InvalidArgumentError",
     "evalue": "Exception encountered when calling LinearLayer.call().\n\n\u001b[1m{{function_node __wrapped__Mul_device_/job:localhost/replica:0/task:0/device:GPU:0}} required broadcastable shapes [Op:Mul]\u001b[0m\n\nArguments received by LinearLayer.call():\n  • inputs=tf.Tensor(shape=(32, 40), dtype=float32)",
     "output_type": "error",
     "traceback": [
      "\u001b[31m---------------------------------------------------------------------------\u001b[39m",
      "\u001b[31mInvalidArgumentError\u001b[39m                      Traceback (most recent call last)",
      "\u001b[36mCell\u001b[39m\u001b[36m \u001b[39m\u001b[32mIn[8]\u001b[39m\u001b[32m, line 1\u001b[39m\n\u001b[32m----> \u001b[39m\u001b[32m1\u001b[39m train_history = \u001b[43mmodel\u001b[49m\u001b[43m.\u001b[49m\u001b[43mfit\u001b[49m\u001b[43m(\u001b[49m\u001b[43m)\u001b[49m\n",
      "\u001b[36mFile \u001b[39m\u001b[32m~/SCIML/sciml/model/fno/fno.py:291\u001b[39m, in \u001b[36mFNO.fit\u001b[39m\u001b[34m(self, device, mus, xs, sol)\u001b[39m\n\u001b[32m    289\u001b[39m \u001b[38;5;28;01mfor\u001b[39;00m epoch \u001b[38;5;129;01min\u001b[39;00m tqdm(\u001b[38;5;28mrange\u001b[39m(\u001b[38;5;28mself\u001b[39m.n_epochs),desc=\u001b[33m\"\u001b[39m\u001b[33mTraining progress\u001b[39m\u001b[33m\"\u001b[39m):\n\u001b[32m    290\u001b[39m     \u001b[38;5;28;01mfor\u001b[39;00m batch \u001b[38;5;129;01min\u001b[39;00m dataset:\n\u001b[32m--> \u001b[39m\u001b[32m291\u001b[39m         loss = \u001b[38;5;28;43mself\u001b[39;49m\u001b[43m.\u001b[49m\u001b[43mtrain_step\u001b[49m\u001b[43m(\u001b[49m\u001b[43mbatch\u001b[49m\u001b[43m)\u001b[49m\n\u001b[32m    292\u001b[39m         loss_history.append(loss)\n\u001b[32m    293\u001b[39m     logger.info(\u001b[33mf\u001b[39m\u001b[33m\"\u001b[39m\u001b[33mEpoch \u001b[39m\u001b[38;5;132;01m{\u001b[39;00mepoch\u001b[38;5;132;01m}\u001b[39;00m\u001b[33m completed\u001b[39m\u001b[33m\"\u001b[39m)\n",
      "\u001b[36mFile \u001b[39m\u001b[32m~/SCIML/sciml/model/fno/fno.py:305\u001b[39m, in \u001b[36mFNO.train_step\u001b[39m\u001b[34m(self, batch)\u001b[39m\n\u001b[32m    301\u001b[39m mu, x, sol = batch\n\u001b[32m    303\u001b[39m \u001b[38;5;28;01mwith\u001b[39;00m tf.GradientTape() \u001b[38;5;28;01mas\u001b[39;00m tape:\n\u001b[32m    304\u001b[39m     \u001b[38;5;66;03m# Prédiction\u001b[39;00m\n\u001b[32m--> \u001b[39m\u001b[32m305\u001b[39m     y_pred = \u001b[38;5;28;43mself\u001b[39;49m\u001b[43m.\u001b[49m\u001b[43mpredict\u001b[49m\u001b[43m(\u001b[49m\u001b[43mmu\u001b[49m\u001b[43m,\u001b[49m\u001b[43m \u001b[49m\u001b[43mx\u001b[49m\u001b[43m)\u001b[49m\n\u001b[32m    307\u001b[39m     \u001b[38;5;66;03m# Calcul direct de la perte\u001b[39;00m\n\u001b[32m    308\u001b[39m     loss = \u001b[38;5;28mself\u001b[39m.loss_function(y_pred, sol)\n",
      "\u001b[36mFile \u001b[39m\u001b[32m~/SCIML/sciml/model/fno/fno.py:195\u001b[39m, in \u001b[36mFNO.predict\u001b[39m\u001b[34m(self, mu, x)\u001b[39m\n\u001b[32m    192\u001b[39m first_network_output = \u001b[38;5;28mself\u001b[39m.first_network(mu)  \u001b[38;5;66;03m# [batch, p_1] -> [batch, p_2]\u001b[39;00m\n\u001b[32m    194\u001b[39m \u001b[38;5;66;03m#  fourier network,  [batch, n_points, p_2] -> [batch, p_3]\u001b[39;00m\n\u001b[32m--> \u001b[39m\u001b[32m195\u001b[39m kernelized_mu = \u001b[38;5;28;43mself\u001b[39;49m\u001b[43m.\u001b[49m\u001b[43mfourier_network\u001b[49m\u001b[43m(\u001b[49m\u001b[43mfirst_network_output\u001b[49m\u001b[43m)\u001b[49m  \u001b[38;5;66;03m# [batch, n_points, p_2]\u001b[39;00m\n\u001b[32m    197\u001b[39m \u001b[38;5;66;03m# if x is already in the format [batch, n_points, dim_coords], treat it directly\u001b[39;00m\n\u001b[32m    198\u001b[39m \u001b[38;5;28;01mif\u001b[39;00m \u001b[38;5;28mlen\u001b[39m(x.shape) == \u001b[32m3\u001b[39m:\n\u001b[32m    199\u001b[39m     \u001b[38;5;66;03m# flatten to treat each point individually\u001b[39;00m\n",
      "\u001b[36mFile \u001b[39m\u001b[32m~/SCIML/sciml/.venv/lib/python3.11/site-packages/keras/src/utils/traceback_utils.py:122\u001b[39m, in \u001b[36mfilter_traceback.<locals>.error_handler\u001b[39m\u001b[34m(*args, **kwargs)\u001b[39m\n\u001b[32m    119\u001b[39m     filtered_tb = _process_traceback_frames(e.__traceback__)\n\u001b[32m    120\u001b[39m     \u001b[38;5;66;03m# To get the full stack trace, call:\u001b[39;00m\n\u001b[32m    121\u001b[39m     \u001b[38;5;66;03m# `keras.config.disable_traceback_filtering()`\u001b[39;00m\n\u001b[32m--> \u001b[39m\u001b[32m122\u001b[39m     \u001b[38;5;28;01mraise\u001b[39;00m e.with_traceback(filtered_tb) \u001b[38;5;28;01mfrom\u001b[39;00m\u001b[38;5;250m \u001b[39m\u001b[38;5;28;01mNone\u001b[39;00m\n\u001b[32m    123\u001b[39m \u001b[38;5;28;01mfinally\u001b[39;00m:\n\u001b[32m    124\u001b[39m     \u001b[38;5;28;01mdel\u001b[39;00m filtered_tb\n",
      "\u001b[36mFile \u001b[39m\u001b[32m~/SCIML/sciml/model/fno/fno.py:90\u001b[39m, in \u001b[36mFourierNetwork.call\u001b[39m\u001b[34m(self, inputs)\u001b[39m\n\u001b[32m     88\u001b[39m \u001b[38;5;28;01mdef\u001b[39;00m\u001b[38;5;250m \u001b[39m\u001b[34mcall\u001b[39m(\u001b[38;5;28mself\u001b[39m, inputs: tf.Tensor) -> tf.Tensor:\n\u001b[32m     89\u001b[39m     \u001b[38;5;28;01mfor\u001b[39;00m layer \u001b[38;5;129;01min\u001b[39;00m \u001b[38;5;28mself\u001b[39m.fourier_layers:\n\u001b[32m---> \u001b[39m\u001b[32m90\u001b[39m         inputs = \u001b[43mlayer\u001b[49m\u001b[43m(\u001b[49m\u001b[43minputs\u001b[49m\u001b[43m)\u001b[49m\n\u001b[32m     91\u001b[39m     \u001b[38;5;28;01mreturn\u001b[39;00m inputs\n",
      "\u001b[36mFile \u001b[39m\u001b[32m~/SCIML/sciml/model/fno/fno.py:73\u001b[39m, in \u001b[36mFourierLayer.call\u001b[39m\u001b[34m(self, inputs)\u001b[39m\n\u001b[32m     70\u001b[39m x = tf.cast(tf.math.real(x), tf.float32)\n\u001b[32m     72\u001b[39m \u001b[38;5;66;03m# Partie linéaire - utiliser la couche linéaire correctement\u001b[39;00m\n\u001b[32m---> \u001b[39m\u001b[32m73\u001b[39m z = \u001b[38;5;28;43mself\u001b[39;49m\u001b[43m.\u001b[49m\u001b[43mlinear_layer\u001b[49m\u001b[43m(\u001b[49m\u001b[43minputs\u001b[49m\u001b[43m)\u001b[49m\n\u001b[32m     75\u001b[39m \u001b[38;5;66;03m# Combiner les deux chemins\u001b[39;00m\n\u001b[32m     76\u001b[39m \u001b[38;5;28;01mreturn\u001b[39;00m \u001b[38;5;28mself\u001b[39m.activation(x + z)\n",
      "\u001b[36mFile \u001b[39m\u001b[32m~/SCIML/sciml/model/fno/fno.py:32\u001b[39m, in \u001b[36mLinearLayer.call\u001b[39m\u001b[34m(self, inputs)\u001b[39m\n\u001b[32m     30\u001b[39m \u001b[38;5;28;01mdef\u001b[39;00m\u001b[38;5;250m \u001b[39m\u001b[34mcall\u001b[39m(\u001b[38;5;28mself\u001b[39m,inputs:tf.Tensor)->tf.Tensor:\n\u001b[32m     31\u001b[39m     \u001b[38;5;28;01mwith\u001b[39;00m tf.device(\u001b[38;5;28mself\u001b[39m.device):\n\u001b[32m---> \u001b[39m\u001b[32m32\u001b[39m         \u001b[38;5;28;01mreturn\u001b[39;00m \u001b[43minputs\u001b[49m\u001b[43m*\u001b[49m\u001b[38;5;28;43mself\u001b[39;49m\u001b[43m.\u001b[49m\u001b[43mlinear_weights\u001b[49m\n",
      "\u001b[31mInvalidArgumentError\u001b[39m: Exception encountered when calling LinearLayer.call().\n\n\u001b[1m{{function_node __wrapped__Mul_device_/job:localhost/replica:0/task:0/device:GPU:0}} required broadcastable shapes [Op:Mul]\u001b[0m\n\nArguments received by LinearLayer.call():\n  • inputs=tf.Tensor(shape=(32, 40), dtype=float32)"
     ]
    }
   ],
   "source": [
    "train_history = model.fit()"
   ]
  },
  {
   "cell_type": "code",
   "execution_count": 16,
   "id": "4105582b",
   "metadata": {},
   "outputs": [
    {
     "ename": "NameError",
     "evalue": "name 'train_history' is not defined",
     "output_type": "error",
     "traceback": [
      "\u001b[31m---------------------------------------------------------------------------\u001b[39m",
      "\u001b[31mNameError\u001b[39m                                 Traceback (most recent call last)",
      "\u001b[36mCell\u001b[39m\u001b[36m \u001b[39m\u001b[32mIn[16]\u001b[39m\u001b[32m, line 1\u001b[39m\n\u001b[32m----> \u001b[39m\u001b[32m1\u001b[39m plt.plot(\u001b[43mtrain_history\u001b[49m)\n\u001b[32m      2\u001b[39m plt.grid()\n\u001b[32m      3\u001b[39m plt.show()\n",
      "\u001b[31mNameError\u001b[39m: name 'train_history' is not defined"
     ]
    }
   ],
   "source": [
    "plt.plot(train_history)\n",
    "plt.grid()\n",
    "plt.show()"
   ]
  },
  {
   "cell_type": "code",
   "execution_count": null,
   "id": "3b90b076",
   "metadata": {},
   "outputs": [],
   "source": []
  }
 ],
 "metadata": {
  "kernelspec": {
   "display_name": ".venv",
   "language": "python",
   "name": "python3"
  },
  "language_info": {
   "codemirror_mode": {
    "name": "ipython",
    "version": 3
   },
   "file_extension": ".py",
   "mimetype": "text/x-python",
   "name": "python",
   "nbconvert_exporter": "python",
   "pygments_lexer": "ipython3",
   "version": "3.11.11"
  }
 },
 "nbformat": 4,
 "nbformat_minor": 5
}
